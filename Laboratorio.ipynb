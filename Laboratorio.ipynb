{
 "cells": [
  {
   "cell_type": "markdown",
   "id": "0e23c59e",
   "metadata": {},
   "source": [
    "# Instalando Dependecias"
   ]
  },
  {
   "cell_type": "code",
   "execution_count": 3,
   "id": "b42bb535",
   "metadata": {},
   "outputs": [
    {
     "name": "stdout",
     "output_type": "stream",
     "text": [
      "Requirement already satisfied: rdflib in /home/amata/jupyter_notebook/jupynotebook_env/lib/python3.10/site-packages (6.2.0)\n",
      "Requirement already satisfied: isodate in /home/amata/jupyter_notebook/jupynotebook_env/lib/python3.10/site-packages (from rdflib) (0.6.1)\n",
      "Requirement already satisfied: setuptools in /home/amata/jupyter_notebook/jupynotebook_env/lib/python3.10/site-packages (from rdflib) (65.3.0)\n",
      "Requirement already satisfied: pyparsing in /home/amata/jupyter_notebook/jupynotebook_env/lib/python3.10/site-packages (from rdflib) (3.0.9)\n",
      "Requirement already satisfied: six in /home/amata/jupyter_notebook/jupynotebook_env/lib/python3.10/site-packages (from isodate->rdflib) (1.16.0)\n",
      "Note: you may need to restart the kernel to use updated packages.\n"
     ]
    }
   ],
   "source": [
    "pip install rdflib"
   ]
  },
  {
   "cell_type": "code",
   "execution_count": 4,
   "id": "545e4fe7",
   "metadata": {},
   "outputs": [
    {
     "name": "stdout",
     "output_type": "stream",
     "text": [
      "Requirement already satisfied: pandas in /home/amata/jupyter_notebook/jupynotebook_env/lib64/python3.10/site-packages (1.5.0)\n",
      "Requirement already satisfied: python-dateutil>=2.8.1 in /home/amata/jupyter_notebook/jupynotebook_env/lib/python3.10/site-packages (from pandas) (2.8.2)\n",
      "Requirement already satisfied: numpy>=1.21.0 in /home/amata/jupyter_notebook/jupynotebook_env/lib64/python3.10/site-packages (from pandas) (1.23.3)\n",
      "Requirement already satisfied: pytz>=2020.1 in /home/amata/jupyter_notebook/jupynotebook_env/lib/python3.10/site-packages (from pandas) (2022.2.1)\n",
      "Requirement already satisfied: six>=1.5 in /home/amata/jupyter_notebook/jupynotebook_env/lib/python3.10/site-packages (from python-dateutil>=2.8.1->pandas) (1.16.0)\n",
      "Note: you may need to restart the kernel to use updated packages.\n"
     ]
    }
   ],
   "source": [
    "pip install pandas"
   ]
  },
  {
   "cell_type": "code",
   "execution_count": 5,
   "id": "2494e173",
   "metadata": {},
   "outputs": [
    {
     "name": "stdout",
     "output_type": "stream",
     "text": [
      "Requirement already satisfied: SPARQLWrapper in /home/amata/jupyter_notebook/jupynotebook_env/lib/python3.10/site-packages (2.0.0)\n",
      "Requirement already satisfied: rdflib>=6.1.1 in /home/amata/jupyter_notebook/jupynotebook_env/lib/python3.10/site-packages (from SPARQLWrapper) (6.2.0)\n",
      "Requirement already satisfied: setuptools in /home/amata/jupyter_notebook/jupynotebook_env/lib/python3.10/site-packages (from rdflib>=6.1.1->SPARQLWrapper) (65.3.0)\n",
      "Requirement already satisfied: pyparsing in /home/amata/jupyter_notebook/jupynotebook_env/lib/python3.10/site-packages (from rdflib>=6.1.1->SPARQLWrapper) (3.0.9)\n",
      "Requirement already satisfied: isodate in /home/amata/jupyter_notebook/jupynotebook_env/lib/python3.10/site-packages (from rdflib>=6.1.1->SPARQLWrapper) (0.6.1)\n",
      "Requirement already satisfied: six in /home/amata/jupyter_notebook/jupynotebook_env/lib/python3.10/site-packages (from isodate->rdflib>=6.1.1->SPARQLWrapper) (1.16.0)\n",
      "Note: you may need to restart the kernel to use updated packages.\n"
     ]
    }
   ],
   "source": [
    "pip install SPARQLWrapper"
   ]
  },
  {
   "cell_type": "code",
   "execution_count": 6,
   "id": "5dc3a0f4",
   "metadata": {},
   "outputs": [
    {
     "name": "stdout",
     "output_type": "stream",
     "text": [
      "Requirement already satisfied: pyvis in /home/amata/jupyter_notebook/jupynotebook_env/lib/python3.10/site-packages (0.2.1)\n",
      "Requirement already satisfied: jsonpickle>=1.4.1 in /home/amata/jupyter_notebook/jupynotebook_env/lib/python3.10/site-packages (from pyvis) (2.2.0)\n",
      "Requirement already satisfied: jinja2>=2.9.6 in /home/amata/jupyter_notebook/jupynotebook_env/lib/python3.10/site-packages (from pyvis) (3.1.2)\n",
      "Requirement already satisfied: ipython>=5.3.0 in /home/amata/jupyter_notebook/jupynotebook_env/lib/python3.10/site-packages (from pyvis) (8.5.0)\n",
      "Requirement already satisfied: networkx>=1.11 in /home/amata/jupyter_notebook/jupynotebook_env/lib/python3.10/site-packages (from pyvis) (2.8.6)\n",
      "Requirement already satisfied: pexpect>4.3 in /home/amata/jupyter_notebook/jupynotebook_env/lib/python3.10/site-packages (from ipython>=5.3.0->pyvis) (4.8.0)\n",
      "Requirement already satisfied: jedi>=0.16 in /home/amata/jupyter_notebook/jupynotebook_env/lib/python3.10/site-packages (from ipython>=5.3.0->pyvis) (0.18.1)\n",
      "Requirement already satisfied: prompt-toolkit<3.1.0,>3.0.1 in /home/amata/jupyter_notebook/jupynotebook_env/lib/python3.10/site-packages (from ipython>=5.3.0->pyvis) (3.0.31)\n",
      "Requirement already satisfied: decorator in /home/amata/jupyter_notebook/jupynotebook_env/lib/python3.10/site-packages (from ipython>=5.3.0->pyvis) (5.1.1)\n",
      "Requirement already satisfied: traitlets>=5 in /home/amata/jupyter_notebook/jupynotebook_env/lib/python3.10/site-packages (from ipython>=5.3.0->pyvis) (5.4.0)\n",
      "Requirement already satisfied: backcall in /home/amata/jupyter_notebook/jupynotebook_env/lib/python3.10/site-packages (from ipython>=5.3.0->pyvis) (0.2.0)\n",
      "Requirement already satisfied: pygments>=2.4.0 in /home/amata/jupyter_notebook/jupynotebook_env/lib/python3.10/site-packages (from ipython>=5.3.0->pyvis) (2.13.0)\n",
      "Requirement already satisfied: matplotlib-inline in /home/amata/jupyter_notebook/jupynotebook_env/lib/python3.10/site-packages (from ipython>=5.3.0->pyvis) (0.1.6)\n",
      "Requirement already satisfied: stack-data in /home/amata/jupyter_notebook/jupynotebook_env/lib/python3.10/site-packages (from ipython>=5.3.0->pyvis) (0.5.0)\n",
      "Requirement already satisfied: pickleshare in /home/amata/jupyter_notebook/jupynotebook_env/lib/python3.10/site-packages (from ipython>=5.3.0->pyvis) (0.7.5)\n",
      "Requirement already satisfied: MarkupSafe>=2.0 in /home/amata/jupyter_notebook/jupynotebook_env/lib64/python3.10/site-packages (from jinja2>=2.9.6->pyvis) (2.1.1)\n",
      "Requirement already satisfied: parso<0.9.0,>=0.8.0 in /home/amata/jupyter_notebook/jupynotebook_env/lib/python3.10/site-packages (from jedi>=0.16->ipython>=5.3.0->pyvis) (0.8.3)\n",
      "Requirement already satisfied: ptyprocess>=0.5 in /home/amata/jupyter_notebook/jupynotebook_env/lib/python3.10/site-packages (from pexpect>4.3->ipython>=5.3.0->pyvis) (0.7.0)\n",
      "Requirement already satisfied: wcwidth in /home/amata/jupyter_notebook/jupynotebook_env/lib/python3.10/site-packages (from prompt-toolkit<3.1.0,>3.0.1->ipython>=5.3.0->pyvis) (0.2.5)\n",
      "Requirement already satisfied: pure-eval in /home/amata/jupyter_notebook/jupynotebook_env/lib/python3.10/site-packages (from stack-data->ipython>=5.3.0->pyvis) (0.2.2)\n",
      "Requirement already satisfied: asttokens in /home/amata/jupyter_notebook/jupynotebook_env/lib/python3.10/site-packages (from stack-data->ipython>=5.3.0->pyvis) (2.0.8)\n",
      "Requirement already satisfied: executing in /home/amata/jupyter_notebook/jupynotebook_env/lib/python3.10/site-packages (from stack-data->ipython>=5.3.0->pyvis) (1.0.0)\n",
      "Requirement already satisfied: six in /home/amata/jupyter_notebook/jupynotebook_env/lib/python3.10/site-packages (from asttokens->stack-data->ipython>=5.3.0->pyvis) (1.16.0)\n",
      "Note: you may need to restart the kernel to use updated packages.\n"
     ]
    }
   ],
   "source": [
    "pip install pyvis"
   ]
  },
  {
   "cell_type": "markdown",
   "id": "896189f4",
   "metadata": {},
   "source": [
    "# Importaciones"
   ]
  },
  {
   "cell_type": "code",
   "execution_count": 5,
   "id": "6d6305ae",
   "metadata": {},
   "outputs": [],
   "source": [
    "from rdflib import Graph\n",
    "from SPARQLWrapper import SPARQLWrapper, JSON, N3\n",
    "from pprint import pprint\n",
    "import pandas as pd"
   ]
  },
  {
   "cell_type": "code",
   "execution_count": 6,
   "id": "1bbd1878",
   "metadata": {},
   "outputs": [],
   "source": [
    "import pyvis\n",
    "from pyvis.network import Network\n",
    "import networkx as nx\n",
    "import json"
   ]
  },
  {
   "cell_type": "markdown",
   "id": "77101eda",
   "metadata": {},
   "source": [
    "# Desarrollo"
   ]
  },
  {
   "cell_type": "markdown",
   "id": "6d99a8c8",
   "metadata": {},
   "source": [
    "## 1. Filtrando los datos de la película"
   ]
  },
  {
   "cell_type": "code",
   "execution_count": 32,
   "id": "607eca09",
   "metadata": {},
   "outputs": [],
   "source": [
    "sparql = SPARQLWrapper('https://dbpedia.org/sparql')\n",
    "def detallePelicula(titulo):\n",
    "    sparql.setQuery('''\n",
    "        SELECT ?name ?director ?country ?starring ?abstract\n",
    "        WHERE { dbr:'''+titulo+''' dbp:name ?name .\n",
    "                dbr:'''+titulo+''' dbo:director ?director .\n",
    "                dbr:'''+titulo+''' dbp:country ?country .\n",
    "                dbr:'''+titulo+''' dbp:starring ?starring .\n",
    "                dbr:'''+titulo+''' dbo:abstract ?abstract .\n",
    "\n",
    "                FILTER (lang(?abstract) = 'en')\n",
    "        }''')\n",
    "    sparql.setReturnFormat(JSON)\n",
    "    qres = sparql.query().convert()\n",
    "    \n",
    "    diccionarios = []\n",
    "    for res in qres[\"results\"][\"bindings\"]:\n",
    "        dic ={\n",
    "            \"name\":res[\"name\"][\"value\"],\n",
    "            \"director\":res[\"director\"][\"value\"].split(\"/\")[-1],\n",
    "            \"country\":res[\"country\"][\"value\"],\n",
    "            \"abstract\":res[\"abstract\"][\"value\"],\n",
    "            \"starring\":res[\"starring\"][\"value\"].split(\"/\")[-1]\n",
    "        }\n",
    "        diccionarios.append(dic)\n",
    "    print(len(diccionarios))\n",
    "    \n",
    "    dics_string = json.dumps(diccionarios)  \n",
    "    a_json = json.loads(dics_string)\n",
    "    dataframe = pd.DataFrame.from_dict(a_json)\n",
    "    dataframe.drop_duplicates()\n",
    "    \n",
    "    return dataframe"
   ]
  },
  {
   "cell_type": "code",
   "execution_count": 33,
   "id": "b279502a",
   "metadata": {},
   "outputs": [
    {
     "name": "stdout",
     "output_type": "stream",
     "text": [
      "12\n"
     ]
    },
    {
     "data": {
      "text/html": [
       "<div>\n",
       "<style scoped>\n",
       "    .dataframe tbody tr th:only-of-type {\n",
       "        vertical-align: middle;\n",
       "    }\n",
       "\n",
       "    .dataframe tbody tr th {\n",
       "        vertical-align: top;\n",
       "    }\n",
       "\n",
       "    .dataframe thead th {\n",
       "        text-align: right;\n",
       "    }\n",
       "</style>\n",
       "<table border=\"1\" class=\"dataframe\">\n",
       "  <thead>\n",
       "    <tr style=\"text-align: right;\">\n",
       "      <th></th>\n",
       "      <th>name</th>\n",
       "      <th>director</th>\n",
       "      <th>country</th>\n",
       "      <th>abstract</th>\n",
       "      <th>starring</th>\n",
       "    </tr>\n",
       "  </thead>\n",
       "  <tbody>\n",
       "    <tr>\n",
       "      <th>0</th>\n",
       "      <td>Toy Story 3</td>\n",
       "      <td>Lee_Unkrich</td>\n",
       "      <td>United States</td>\n",
       "      <td>Toy Story 3 is a 2010 American computer-animat...</td>\n",
       "      <td>Tom Hanks</td>\n",
       "    </tr>\n",
       "    <tr>\n",
       "      <th>1</th>\n",
       "      <td>Toy Story 3</td>\n",
       "      <td>Lee_Unkrich</td>\n",
       "      <td>United States</td>\n",
       "      <td>Toy Story 3 is a 2010 American computer-animat...</td>\n",
       "      <td></td>\n",
       "    </tr>\n",
       "    <tr>\n",
       "      <th>2</th>\n",
       "      <td>Toy Story 3</td>\n",
       "      <td>Lee_Unkrich</td>\n",
       "      <td>United States</td>\n",
       "      <td>Toy Story 3 is a 2010 American computer-animat...</td>\n",
       "      <td>John Morris</td>\n",
       "    </tr>\n",
       "    <tr>\n",
       "      <th>3</th>\n",
       "      <td>Toy Story 3</td>\n",
       "      <td>Lee_Unkrich</td>\n",
       "      <td>United States</td>\n",
       "      <td>Toy Story 3 is a 2010 American computer-animat...</td>\n",
       "      <td>Ned Beatty</td>\n",
       "    </tr>\n",
       "    <tr>\n",
       "      <th>4</th>\n",
       "      <td>Toy Story 3</td>\n",
       "      <td>Lee_Unkrich</td>\n",
       "      <td>United States</td>\n",
       "      <td>Toy Story 3 is a 2010 American computer-animat...</td>\n",
       "      <td>Tim Allen</td>\n",
       "    </tr>\n",
       "    <tr>\n",
       "      <th>5</th>\n",
       "      <td>Toy Story 3</td>\n",
       "      <td>Lee_Unkrich</td>\n",
       "      <td>United States</td>\n",
       "      <td>Toy Story 3 is a 2010 American computer-animat...</td>\n",
       "      <td>Wallace Shawn</td>\n",
       "    </tr>\n",
       "    <tr>\n",
       "      <th>6</th>\n",
       "      <td>Toy Story 3</td>\n",
       "      <td>Lee_Unkrich</td>\n",
       "      <td>United States</td>\n",
       "      <td>Toy Story 3 is a 2010 American computer-animat...</td>\n",
       "      <td>Joan Cusack</td>\n",
       "    </tr>\n",
       "    <tr>\n",
       "      <th>7</th>\n",
       "      <td>Toy Story 3</td>\n",
       "      <td>Lee_Unkrich</td>\n",
       "      <td>United States</td>\n",
       "      <td>Toy Story 3 is a 2010 American computer-animat...</td>\n",
       "      <td>Michael Keaton</td>\n",
       "    </tr>\n",
       "    <tr>\n",
       "      <th>8</th>\n",
       "      <td>Toy Story 3</td>\n",
       "      <td>Lee_Unkrich</td>\n",
       "      <td>United States</td>\n",
       "      <td>Toy Story 3 is a 2010 American computer-animat...</td>\n",
       "      <td>Jodi Benson</td>\n",
       "    </tr>\n",
       "    <tr>\n",
       "      <th>9</th>\n",
       "      <td>Toy Story 3</td>\n",
       "      <td>Lee_Unkrich</td>\n",
       "      <td>United States</td>\n",
       "      <td>Toy Story 3 is a 2010 American computer-animat...</td>\n",
       "      <td>Estelle Harris</td>\n",
       "    </tr>\n",
       "    <tr>\n",
       "      <th>10</th>\n",
       "      <td>Toy Story 3</td>\n",
       "      <td>Lee_Unkrich</td>\n",
       "      <td>United States</td>\n",
       "      <td>Toy Story 3 is a 2010 American computer-animat...</td>\n",
       "      <td>Don Rickles</td>\n",
       "    </tr>\n",
       "    <tr>\n",
       "      <th>11</th>\n",
       "      <td>Toy Story 3</td>\n",
       "      <td>Lee_Unkrich</td>\n",
       "      <td>United States</td>\n",
       "      <td>Toy Story 3 is a 2010 American computer-animat...</td>\n",
       "      <td>John Ratzenberger</td>\n",
       "    </tr>\n",
       "  </tbody>\n",
       "</table>\n",
       "</div>"
      ],
      "text/plain": [
       "           name     director        country  \\\n",
       "0   Toy Story 3  Lee_Unkrich  United States   \n",
       "1   Toy Story 3  Lee_Unkrich  United States   \n",
       "2   Toy Story 3  Lee_Unkrich  United States   \n",
       "3   Toy Story 3  Lee_Unkrich  United States   \n",
       "4   Toy Story 3  Lee_Unkrich  United States   \n",
       "5   Toy Story 3  Lee_Unkrich  United States   \n",
       "6   Toy Story 3  Lee_Unkrich  United States   \n",
       "7   Toy Story 3  Lee_Unkrich  United States   \n",
       "8   Toy Story 3  Lee_Unkrich  United States   \n",
       "9   Toy Story 3  Lee_Unkrich  United States   \n",
       "10  Toy Story 3  Lee_Unkrich  United States   \n",
       "11  Toy Story 3  Lee_Unkrich  United States   \n",
       "\n",
       "                                             abstract           starring  \n",
       "0   Toy Story 3 is a 2010 American computer-animat...          Tom Hanks  \n",
       "1   Toy Story 3 is a 2010 American computer-animat...                     \n",
       "2   Toy Story 3 is a 2010 American computer-animat...        John Morris  \n",
       "3   Toy Story 3 is a 2010 American computer-animat...         Ned Beatty  \n",
       "4   Toy Story 3 is a 2010 American computer-animat...          Tim Allen  \n",
       "5   Toy Story 3 is a 2010 American computer-animat...      Wallace Shawn  \n",
       "6   Toy Story 3 is a 2010 American computer-animat...        Joan Cusack  \n",
       "7   Toy Story 3 is a 2010 American computer-animat...     Michael Keaton  \n",
       "8   Toy Story 3 is a 2010 American computer-animat...        Jodi Benson  \n",
       "9   Toy Story 3 is a 2010 American computer-animat...     Estelle Harris  \n",
       "10  Toy Story 3 is a 2010 American computer-animat...        Don Rickles  \n",
       "11  Toy Story 3 is a 2010 American computer-animat...  John Ratzenberger  "
      ]
     },
     "execution_count": 33,
     "metadata": {},
     "output_type": "execute_result"
    }
   ],
   "source": [
    "detallePelicula('Toy_Story_3')"
   ]
  },
  {
   "cell_type": "code",
   "execution_count": 8,
   "id": "64776c2d",
   "metadata": {},
   "outputs": [],
   "source": [
    "def grafo(df):\n",
    "    G = nx.Graph()\n",
    "\n",
    "    for a in df.itertuples():\n",
    "        if a.starring != \"\":\n",
    "            G.add_node(a.starring, size=\"20\",labelHighlightBold=True)\n",
    "            G.add_edge(a.starring, a.name)\n",
    "\n",
    "    \n",
    "    net = Network(notebook=True,directed=True)\n",
    "\n",
    "    net.from_nx(G)\n",
    "    #net.show_buttons()\n",
    "    net.repulsion(node_distance=150, spring_length=100,central_gravity=0.5)\n",
    "    return net.show(\"example.html\")"
   ]
  },
  {
   "cell_type": "code",
   "execution_count": 9,
   "id": "511f99dc",
   "metadata": {},
   "outputs": [],
   "source": [
    "def nuevo(titulo):\n",
    "    dataframe = detallePelicula(titulo)\n",
    "    dataframe.reset_index()\n",
    "    dataframe.drop_duplicates()\n",
    "    return dataframe\n",
    "\n",
    "def enriquecer(dataframe,titulo):\n",
    "    df=dataframe.append(detallePelicula(titulo))\n",
    "    df.reset_index()\n",
    "    df.drop_duplicates()\n",
    "    return df"
   ]
  },
  {
   "cell_type": "code",
   "execution_count": 10,
   "id": "89589028",
   "metadata": {
    "scrolled": true
   },
   "outputs": [
    {
     "name": "stdout",
     "output_type": "stream",
     "text": [
      "12\n"
     ]
    },
    {
     "data": {
      "text/html": [
       "\n",
       "        <iframe\n",
       "            width=\"500px\"\n",
       "            height=\"500px\"\n",
       "            src=\"example.html\"\n",
       "            frameborder=\"0\"\n",
       "            allowfullscreen\n",
       "            \n",
       "        ></iframe>\n",
       "        "
      ],
      "text/plain": [
       "<IPython.lib.display.IFrame at 0x7f88101e7ee0>"
      ]
     },
     "execution_count": 10,
     "metadata": {},
     "output_type": "execute_result"
    }
   ],
   "source": [
    "dataframe = nuevo(\"Toy_Story_3\")\n",
    "grafo(dataframe)"
   ]
  },
  {
   "cell_type": "code",
   "execution_count": 35,
   "id": "82b7248d",
   "metadata": {
    "scrolled": false
   },
   "outputs": [
    {
     "name": "stdout",
     "output_type": "stream",
     "text": [
      "6\n"
     ]
    },
    {
     "name": "stderr",
     "output_type": "stream",
     "text": [
      "/tmp/ipykernel_13349/3882681488.py:8: FutureWarning: The frame.append method is deprecated and will be removed from pandas in a future version. Use pandas.concat instead.\n",
      "  df=dataframe.append(detallePelicula(titulo))\n"
     ]
    },
    {
     "data": {
      "text/html": [
       "\n",
       "        <iframe\n",
       "            width=\"500px\"\n",
       "            height=\"500px\"\n",
       "            src=\"example.html\"\n",
       "            frameborder=\"0\"\n",
       "            allowfullscreen\n",
       "            \n",
       "        ></iframe>\n",
       "        "
      ],
      "text/plain": [
       "<IPython.lib.display.IFrame at 0x7f8810030e20>"
      ]
     },
     "execution_count": 35,
     "metadata": {},
     "output_type": "execute_result"
    }
   ],
   "source": [
    "dataframe = enriquecer(dataframe,\"Forrest_Gump\")\n",
    "dataframe.head(100)\n",
    "grafo(dataframe)"
   ]
  },
  {
   "cell_type": "code",
   "execution_count": null,
   "id": "fe6d1cb3",
   "metadata": {},
   "outputs": [],
   "source": []
  }
 ],
 "metadata": {
  "kernelspec": {
   "display_name": "Python 3 (ipykernel)",
   "language": "python",
   "name": "python3"
  },
  "language_info": {
   "codemirror_mode": {
    "name": "ipython",
    "version": 3
   },
   "file_extension": ".py",
   "mimetype": "text/x-python",
   "name": "python",
   "nbconvert_exporter": "python",
   "pygments_lexer": "ipython3",
   "version": "3.10.6"
  }
 },
 "nbformat": 4,
 "nbformat_minor": 5
}
