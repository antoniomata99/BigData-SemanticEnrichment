{
 "cells": [
  {
   "cell_type": "markdown",
   "id": "1b339db6",
   "metadata": {},
   "source": [
    "# Instalando Dependecias"
   ]
  },
  {
   "cell_type": "code",
   "execution_count": null,
   "id": "7ba55e15",
   "metadata": {},
   "outputs": [],
   "source": [
    "pip install rdflib"
   ]
  },
  {
   "cell_type": "code",
   "execution_count": null,
   "id": "ae50235c",
   "metadata": {},
   "outputs": [],
   "source": [
    "pip install pandas"
   ]
  },
  {
   "cell_type": "code",
   "execution_count": null,
   "id": "0719a3e9",
   "metadata": {},
   "outputs": [],
   "source": [
    "pip install SPARQLWrapper"
   ]
  },
  {
   "cell_type": "code",
   "execution_count": null,
   "id": "7bebd79c",
   "metadata": {},
   "outputs": [],
   "source": [
    "pip install pyvis"
   ]
  },
  {
   "cell_type": "markdown",
   "id": "7850b82e",
   "metadata": {},
   "source": [
    "# Importaciones"
   ]
  },
  {
   "cell_type": "code",
   "execution_count": null,
   "id": "0a99d8f7",
   "metadata": {},
   "outputs": [],
   "source": [
    "from rdflib import Graph\n",
    "from SPARQLWrapper import SPARQLWrapper, JSON, N3\n",
    "from pprint import pprint\n",
    "import pandas as pd"
   ]
  },
  {
   "cell_type": "code",
   "execution_count": null,
   "id": "835558df",
   "metadata": {},
   "outputs": [],
   "source": [
    "import pyvis\n",
    "from pyvis.network import Network\n",
    "import networkx as nx\n",
    "import json"
   ]
  },
  {
   "cell_type": "markdown",
   "id": "237f437f",
   "metadata": {},
   "source": [
    "# Desarrollo"
   ]
  },
  {
   "cell_type": "markdown",
   "id": "ca341b41",
   "metadata": {},
   "source": [
    "## 1. Filtrando los datos de la película (usando SPARQL)"
   ]
  },
  {
   "cell_type": "code",
   "execution_count": null,
   "id": "3c47b73b",
   "metadata": {},
   "outputs": [],
   "source": [
    "sparql = SPARQLWrapper('https://dbpedia.org/sparql')\n",
    "def detallePelicula(titulo):\n",
    "    sparql.setQuery('''\n",
    "        SELECT ?name ?director ?country ?starring ?abstract ?studio ?producer ?music\n",
    "        WHERE { dbr:'''+titulo+''' dbp:name ?name .\n",
    "                dbr:'''+titulo+''' dbo:director ?director .\n",
    "                dbr:'''+titulo+''' dbp:country ?country .\n",
    "                dbr:'''+titulo+''' dbp:starring ?starring .\n",
    "                dbr:'''+titulo+''' dbo:abstract ?abstract .\n",
    "                dbr:'''+titulo+''' dbp:studio ?studio .\n",
    "                dbr:'''+titulo+''' dbp:producer ?producer .\n",
    "                dbr:'''+titulo+''' dbp:music ?music .\n",
    "\n",
    "                FILTER (lang(?abstract) = 'en')\n",
    "        }''')\n",
    "    sparql.setReturnFormat(JSON)\n",
    "    qres = sparql.query().convert()\n",
    "    \n",
    "    diccionarios = []\n",
    "    for res in qres[\"results\"][\"bindings\"]:\n",
    "        dic ={\n",
    "            \"name\":res[\"name\"][\"value\"],\n",
    "            \"director\":res[\"director\"][\"value\"].split(\"/\")[-1],\n",
    "            \"country\":res[\"country\"][\"value\"],\n",
    "            \"abstract\":res[\"abstract\"][\"value\"],\n",
    "            \"starring\":res[\"starring\"][\"value\"].split(\"/\")[-1],\n",
    "            \"studio\":res[\"studio\"][\"value\"].split(\"/\")[-1],\n",
    "            \"producer\":res[\"producer\"][\"value\"].split(\"/\")[-1],\n",
    "            \"music\":res[\"music\"][\"value\"].split(\"/\")[-1],\n",
    "        }\n",
    "        diccionarios.append(dic)\n",
    "    print(len(diccionarios))\n",
    "    \n",
    "    dics_string = json.dumps(diccionarios)  \n",
    "    a_json = json.loads(dics_string)\n",
    "    dataframe = pd.DataFrame.from_dict(a_json)\n",
    "    dataframe.drop_duplicates()\n",
    "    \n",
    "    return dataframe"
   ]
  },
  {
   "cell_type": "code",
   "execution_count": null,
   "id": "79116b93",
   "metadata": {
    "scrolled": true
   },
   "outputs": [],
   "source": [
    "detallePelicula('Are_We_Done_Yet%3F')"
   ]
  },
  {
   "cell_type": "code",
   "execution_count": null,
   "id": "2ff286b9",
   "metadata": {
    "scrolled": true
   },
   "outputs": [],
   "source": [
    "detallePelicula('Toy_Story_3')"
   ]
  },
  {
   "cell_type": "markdown",
   "id": "a6e10195",
   "metadata": {},
   "source": [
    "## Relación Actor - Película - País de Origen - Estudio - Productor - Productor Musical"
   ]
  },
  {
   "cell_type": "code",
   "execution_count": null,
   "id": "c1d7dc3b",
   "metadata": {},
   "outputs": [],
   "source": [
    "def grafo(df):\n",
    "    G = nx.Graph()\n",
    "\n",
    "    for a in df.itertuples():\n",
    "        if a.starring != \"\":\n",
    "            G.add_node(a.starring, size=\"20\",labelHighlightBold=True)\n",
    "            G.add_edge(a.starring, a.name)\n",
    "            G.add_edge(a.name, a.country)\n",
    "            G.add_edge(a.name, a.studio)\n",
    "            G.add_edge(a.name, a.producer)\n",
    "            G.add_edge(a.name, a.music)\n",
    "\n",
    "    \n",
    "    net = Network(notebook=True,directed=True)\n",
    "\n",
    "    net.from_nx(G)\n",
    "    #net.show_buttons()\n",
    "    net.repulsion(node_distance=150, spring_length=100,central_gravity=0.5)\n",
    "    return net.show(\"example.html\")"
   ]
  },
  {
   "cell_type": "code",
   "execution_count": null,
   "id": "85d84014",
   "metadata": {},
   "outputs": [],
   "source": [
    "def nuevo(titulo):\n",
    "    dataframe = detallePelicula(titulo)\n",
    "    dataframe.reset_index()\n",
    "    dataframe.drop_duplicates()\n",
    "    return dataframe\n",
    "\n",
    "def enriquecer(dataframe,titulo):\n",
    "    df=dataframe.append(detallePelicula(titulo))\n",
    "    df.reset_index()\n",
    "    df.drop_duplicates()\n",
    "    return df"
   ]
  },
  {
   "cell_type": "code",
   "execution_count": null,
   "id": "ba300a16",
   "metadata": {
    "scrolled": false
   },
   "outputs": [],
   "source": [
    "dataframe = nuevo(\"Toy_Story_3\")\n",
    "grafo(dataframe)"
   ]
  },
  {
   "cell_type": "code",
   "execution_count": null,
   "id": "2fb93d82",
   "metadata": {},
   "outputs": [],
   "source": [
    "dataframe = enriquecer(dataframe,\"Cars_2\")\n",
    "dataframe.head(100)\n",
    "grafo(dataframe)"
   ]
  },
  {
   "cell_type": "code",
   "execution_count": null,
   "id": "dfd0ea18",
   "metadata": {},
   "outputs": [],
   "source": [
    "dataframe = enriquecer(dataframe,\"The_Good_Dinosaur\")\n",
    "dataframe.head(100)\n",
    "grafo(dataframe)"
   ]
  },
  {
   "cell_type": "code",
   "execution_count": null,
   "id": "9920fe56",
   "metadata": {},
   "outputs": [],
   "source": [
    "dataframe = enriquecer(dataframe,\"Wild_Hogs\")\n",
    "dataframe.head(100)\n",
    "grafo(dataframe)"
   ]
  },
  {
   "cell_type": "code",
   "execution_count": null,
   "id": "12ad19eb",
   "metadata": {
    "scrolled": true
   },
   "outputs": [],
   "source": [
    "dataframe = enriquecer(dataframe,\"Are_We_Done_Yet%3F\")\n",
    "dataframe.head(100)\n",
    "grafo(dataframe)"
   ]
  },
  {
   "cell_type": "code",
   "execution_count": null,
   "id": "00c9e6b5",
   "metadata": {
    "scrolled": true
   },
   "outputs": [],
   "source": [
    "dataframe = enriquecer(dataframe,\"Forrest_Gump\")\n",
    "dataframe.head(100)\n",
    "grafo(dataframe)"
   ]
  },
  {
   "cell_type": "code",
   "execution_count": null,
   "id": "3636f8b6",
   "metadata": {},
   "outputs": [],
   "source": [
    "dataframe = enriquecer(dataframe,\"Lucky_Numbers\")\n",
    "dataframe.head(100)\n",
    "grafo(dataframe)"
   ]
  },
  {
   "cell_type": "code",
   "execution_count": null,
   "id": "d9ee687e",
   "metadata": {},
   "outputs": [],
   "source": []
  }
 ],
 "metadata": {
  "kernelspec": {
   "display_name": "Python 3 (ipykernel)",
   "language": "python",
   "name": "python3"
  },
  "language_info": {
   "codemirror_mode": {
    "name": "ipython",
    "version": 3
   },
   "file_extension": ".py",
   "mimetype": "text/x-python",
   "name": "python",
   "nbconvert_exporter": "python",
   "pygments_lexer": "ipython3",
   "version": "3.10.7"
  }
 },
 "nbformat": 4,
 "nbformat_minor": 5
}
