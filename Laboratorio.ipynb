{
 "cells": [
  {
   "cell_type": "markdown",
   "id": "1b339db6",
   "metadata": {},
   "source": [
    "# Instalando Dependecias"
   ]
  },
  {
   "cell_type": "code",
   "execution_count": null,
   "id": "7ba55e15",
   "metadata": {},
   "outputs": [],
   "source": [
    "pip install rdflib"
   ]
  },
  {
   "cell_type": "code",
   "execution_count": null,
   "id": "ae50235c",
   "metadata": {},
   "outputs": [],
   "source": [
    "pip install pandas"
   ]
  },
  {
   "cell_type": "code",
   "execution_count": null,
   "id": "0719a3e9",
   "metadata": {},
   "outputs": [],
   "source": [
    "pip install SPARQLWrapper"
   ]
  },
  {
   "cell_type": "code",
   "execution_count": null,
   "id": "7bebd79c",
   "metadata": {},
   "outputs": [],
   "source": [
    "pip install pyvis"
   ]
  },
  {
   "cell_type": "markdown",
   "id": "7850b82e",
   "metadata": {},
   "source": [
    "# Importaciones"
   ]
  },
  {
   "cell_type": "code",
   "execution_count": 1,
   "id": "0a99d8f7",
   "metadata": {},
   "outputs": [],
   "source": [
    "from rdflib import Graph\n",
    "from SPARQLWrapper import SPARQLWrapper, JSON, N3\n",
    "from pprint import pprint\n",
    "import pandas as pd"
   ]
  },
  {
   "cell_type": "code",
   "execution_count": 2,
   "id": "835558df",
   "metadata": {},
   "outputs": [],
   "source": [
    "import pyvis\n",
    "from pyvis.network import Network\n",
    "import networkx as nx\n",
    "import json"
   ]
  },
  {
   "cell_type": "markdown",
   "id": "237f437f",
   "metadata": {},
   "source": [
    "# Desarrollo"
   ]
  },
  {
   "cell_type": "markdown",
   "id": "ca341b41",
   "metadata": {},
   "source": [
    "## 1. Filtrando los datos de la película (usando SPARQL)"
   ]
  },
  {
   "cell_type": "code",
   "execution_count": 3,
   "id": "3c47b73b",
   "metadata": {},
   "outputs": [],
   "source": [
    "sparql = SPARQLWrapper('https://dbpedia.org/sparql')\n",
    "def detallePelicula(titulo):\n",
    "    sparql.setQuery('''\n",
    "        SELECT ?name ?director ?country ?starring ?abstract ?studio ?producer ?music\n",
    "        WHERE { dbr:'''+titulo+''' dbp:name ?name .\n",
    "                dbr:'''+titulo+''' dbo:director ?director .\n",
    "                dbr:'''+titulo+''' dbp:country ?country .\n",
    "                dbr:'''+titulo+''' dbp:starring ?starring .\n",
    "                dbr:'''+titulo+''' dbo:abstract ?abstract .\n",
    "                dbr:'''+titulo+''' dbp:studio ?studio .\n",
    "                dbr:'''+titulo+''' dbp:producer ?producer .\n",
    "                dbr:'''+titulo+''' dbp:music ?music .\n",
    "\n",
    "                FILTER (lang(?abstract) = 'en')\n",
    "        }''')\n",
    "    sparql.setReturnFormat(JSON)\n",
    "    qres = sparql.query().convert()\n",
    "    \n",
    "    diccionarios = []\n",
    "    for res in qres[\"results\"][\"bindings\"]:\n",
    "        dic ={\n",
    "            \"name\":res[\"name\"][\"value\"],\n",
    "            \"director\":res[\"director\"][\"value\"].split(\"/\")[-1],\n",
    "            \"country\":res[\"country\"][\"value\"],\n",
    "            \"abstract\":res[\"abstract\"][\"value\"],\n",
    "            \"starring\":res[\"starring\"][\"value\"].split(\"/\")[-1],\n",
    "            \"studio\":res[\"studio\"][\"value\"].split(\"/\")[-1],\n",
    "            \"producer\":res[\"producer\"][\"value\"].split(\"/\")[-1],\n",
    "            \"music\":res[\"music\"][\"value\"].split(\"/\")[-1],\n",
    "        }\n",
    "        diccionarios.append(dic)\n",
    "    print(len(diccionarios))\n",
    "    \n",
    "    dics_string = json.dumps(diccionarios)  \n",
    "    a_json = json.loads(dics_string)\n",
    "    dataframe = pd.DataFrame.from_dict(a_json)\n",
    "    dataframe.drop_duplicates()\n",
    "    \n",
    "    return dataframe"
   ]
  },
  {
   "cell_type": "code",
   "execution_count": 4,
   "id": "85d84014",
   "metadata": {},
   "outputs": [],
   "source": [
    "def nuevo(titulo):\n",
    "    dataframe = detallePelicula(titulo)\n",
    "    dataframe.reset_index()\n",
    "    dataframe.drop_duplicates()\n",
    "    return dataframe\n",
    "\n",
    "def enriquecer(dataframe,titulo):\n",
    "    df=dataframe.append(detallePelicula(titulo))\n",
    "    df.reset_index()\n",
    "    df.drop_duplicates()\n",
    "    return df"
   ]
  },
  {
   "cell_type": "code",
   "execution_count": 5,
   "id": "29b22e1c",
   "metadata": {},
   "outputs": [
    {
     "name": "stdout",
     "output_type": "stream",
     "text": [
      "21\n"
     ]
    },
    {
     "data": {
      "text/html": [
       "<div>\n",
       "<style scoped>\n",
       "    .dataframe tbody tr th:only-of-type {\n",
       "        vertical-align: middle;\n",
       "    }\n",
       "\n",
       "    .dataframe tbody tr th {\n",
       "        vertical-align: top;\n",
       "    }\n",
       "\n",
       "    .dataframe thead th {\n",
       "        text-align: right;\n",
       "    }\n",
       "</style>\n",
       "<table border=\"1\" class=\"dataframe\">\n",
       "  <thead>\n",
       "    <tr style=\"text-align: right;\">\n",
       "      <th></th>\n",
       "      <th>name</th>\n",
       "      <th>director</th>\n",
       "      <th>country</th>\n",
       "      <th>abstract</th>\n",
       "      <th>starring</th>\n",
       "      <th>studio</th>\n",
       "      <th>producer</th>\n",
       "      <th>music</th>\n",
       "    </tr>\n",
       "  </thead>\n",
       "  <tbody>\n",
       "    <tr>\n",
       "      <th>0</th>\n",
       "      <td>Cars 2</td>\n",
       "      <td>John_Lasseter</td>\n",
       "      <td>United States</td>\n",
       "      <td>Cars 2 is a 2011 American computer-animated sp...</td>\n",
       "      <td>Eddie Izzard</td>\n",
       "      <td></td>\n",
       "      <td>Denise Ream</td>\n",
       "      <td>Michael_Giacchino</td>\n",
       "    </tr>\n",
       "    <tr>\n",
       "      <th>1</th>\n",
       "      <td>Cars 2</td>\n",
       "      <td>John_Lasseter</td>\n",
       "      <td>United States</td>\n",
       "      <td>Cars 2 is a 2011 American computer-animated sp...</td>\n",
       "      <td></td>\n",
       "      <td></td>\n",
       "      <td>Denise Ream</td>\n",
       "      <td>Michael_Giacchino</td>\n",
       "    </tr>\n",
       "    <tr>\n",
       "      <th>2</th>\n",
       "      <td>Cars 2</td>\n",
       "      <td>John_Lasseter</td>\n",
       "      <td>United States</td>\n",
       "      <td>Cars 2 is a 2011 American computer-animated sp...</td>\n",
       "      <td>Emily Mortimer</td>\n",
       "      <td></td>\n",
       "      <td>Denise Ream</td>\n",
       "      <td>Michael_Giacchino</td>\n",
       "    </tr>\n",
       "    <tr>\n",
       "      <th>3</th>\n",
       "      <td>Cars 2</td>\n",
       "      <td>John_Lasseter</td>\n",
       "      <td>United States</td>\n",
       "      <td>Cars 2 is a 2011 American computer-animated sp...</td>\n",
       "      <td>Larry the Cable Guy</td>\n",
       "      <td></td>\n",
       "      <td>Denise Ream</td>\n",
       "      <td>Michael_Giacchino</td>\n",
       "    </tr>\n",
       "    <tr>\n",
       "      <th>4</th>\n",
       "      <td>Cars 2</td>\n",
       "      <td>John_Lasseter</td>\n",
       "      <td>United States</td>\n",
       "      <td>Cars 2 is a 2011 American computer-animated sp...</td>\n",
       "      <td>Michael Caine</td>\n",
       "      <td></td>\n",
       "      <td>Denise Ream</td>\n",
       "      <td>Michael_Giacchino</td>\n",
       "    </tr>\n",
       "    <tr>\n",
       "      <th>5</th>\n",
       "      <td>Cars 2</td>\n",
       "      <td>John_Lasseter</td>\n",
       "      <td>United States</td>\n",
       "      <td>Cars 2 is a 2011 American computer-animated sp...</td>\n",
       "      <td>Owen Wilson</td>\n",
       "      <td></td>\n",
       "      <td>Denise Ream</td>\n",
       "      <td>Michael_Giacchino</td>\n",
       "    </tr>\n",
       "    <tr>\n",
       "      <th>6</th>\n",
       "      <td>Cars 2</td>\n",
       "      <td>John_Lasseter</td>\n",
       "      <td>United States</td>\n",
       "      <td>Cars 2 is a 2011 American computer-animated sp...</td>\n",
       "      <td>John Turturro</td>\n",
       "      <td></td>\n",
       "      <td>Denise Ream</td>\n",
       "      <td>Michael_Giacchino</td>\n",
       "    </tr>\n",
       "    <tr>\n",
       "      <th>7</th>\n",
       "      <td>Cars 2</td>\n",
       "      <td>John_Lasseter</td>\n",
       "      <td>United States</td>\n",
       "      <td>Cars 2 is a 2011 American computer-animated sp...</td>\n",
       "      <td>Eddie Izzard</td>\n",
       "      <td>Walt Disney Pictures</td>\n",
       "      <td>Denise Ream</td>\n",
       "      <td>Michael_Giacchino</td>\n",
       "    </tr>\n",
       "    <tr>\n",
       "      <th>8</th>\n",
       "      <td>Cars 2</td>\n",
       "      <td>John_Lasseter</td>\n",
       "      <td>United States</td>\n",
       "      <td>Cars 2 is a 2011 American computer-animated sp...</td>\n",
       "      <td></td>\n",
       "      <td>Walt Disney Pictures</td>\n",
       "      <td>Denise Ream</td>\n",
       "      <td>Michael_Giacchino</td>\n",
       "    </tr>\n",
       "    <tr>\n",
       "      <th>9</th>\n",
       "      <td>Cars 2</td>\n",
       "      <td>John_Lasseter</td>\n",
       "      <td>United States</td>\n",
       "      <td>Cars 2 is a 2011 American computer-animated sp...</td>\n",
       "      <td>Emily Mortimer</td>\n",
       "      <td>Walt Disney Pictures</td>\n",
       "      <td>Denise Ream</td>\n",
       "      <td>Michael_Giacchino</td>\n",
       "    </tr>\n",
       "    <tr>\n",
       "      <th>10</th>\n",
       "      <td>Cars 2</td>\n",
       "      <td>John_Lasseter</td>\n",
       "      <td>United States</td>\n",
       "      <td>Cars 2 is a 2011 American computer-animated sp...</td>\n",
       "      <td>Larry the Cable Guy</td>\n",
       "      <td>Walt Disney Pictures</td>\n",
       "      <td>Denise Ream</td>\n",
       "      <td>Michael_Giacchino</td>\n",
       "    </tr>\n",
       "    <tr>\n",
       "      <th>11</th>\n",
       "      <td>Cars 2</td>\n",
       "      <td>John_Lasseter</td>\n",
       "      <td>United States</td>\n",
       "      <td>Cars 2 is a 2011 American computer-animated sp...</td>\n",
       "      <td>Michael Caine</td>\n",
       "      <td>Walt Disney Pictures</td>\n",
       "      <td>Denise Ream</td>\n",
       "      <td>Michael_Giacchino</td>\n",
       "    </tr>\n",
       "    <tr>\n",
       "      <th>12</th>\n",
       "      <td>Cars 2</td>\n",
       "      <td>John_Lasseter</td>\n",
       "      <td>United States</td>\n",
       "      <td>Cars 2 is a 2011 American computer-animated sp...</td>\n",
       "      <td>Owen Wilson</td>\n",
       "      <td>Walt Disney Pictures</td>\n",
       "      <td>Denise Ream</td>\n",
       "      <td>Michael_Giacchino</td>\n",
       "    </tr>\n",
       "    <tr>\n",
       "      <th>13</th>\n",
       "      <td>Cars 2</td>\n",
       "      <td>John_Lasseter</td>\n",
       "      <td>United States</td>\n",
       "      <td>Cars 2 is a 2011 American computer-animated sp...</td>\n",
       "      <td>John Turturro</td>\n",
       "      <td>Walt Disney Pictures</td>\n",
       "      <td>Denise Ream</td>\n",
       "      <td>Michael_Giacchino</td>\n",
       "    </tr>\n",
       "    <tr>\n",
       "      <th>14</th>\n",
       "      <td>Cars 2</td>\n",
       "      <td>John_Lasseter</td>\n",
       "      <td>United States</td>\n",
       "      <td>Cars 2 is a 2011 American computer-animated sp...</td>\n",
       "      <td>Eddie Izzard</td>\n",
       "      <td>Pixar Animation Studios</td>\n",
       "      <td>Denise Ream</td>\n",
       "      <td>Michael_Giacchino</td>\n",
       "    </tr>\n",
       "    <tr>\n",
       "      <th>15</th>\n",
       "      <td>Cars 2</td>\n",
       "      <td>John_Lasseter</td>\n",
       "      <td>United States</td>\n",
       "      <td>Cars 2 is a 2011 American computer-animated sp...</td>\n",
       "      <td></td>\n",
       "      <td>Pixar Animation Studios</td>\n",
       "      <td>Denise Ream</td>\n",
       "      <td>Michael_Giacchino</td>\n",
       "    </tr>\n",
       "    <tr>\n",
       "      <th>16</th>\n",
       "      <td>Cars 2</td>\n",
       "      <td>John_Lasseter</td>\n",
       "      <td>United States</td>\n",
       "      <td>Cars 2 is a 2011 American computer-animated sp...</td>\n",
       "      <td>Emily Mortimer</td>\n",
       "      <td>Pixar Animation Studios</td>\n",
       "      <td>Denise Ream</td>\n",
       "      <td>Michael_Giacchino</td>\n",
       "    </tr>\n",
       "    <tr>\n",
       "      <th>17</th>\n",
       "      <td>Cars 2</td>\n",
       "      <td>John_Lasseter</td>\n",
       "      <td>United States</td>\n",
       "      <td>Cars 2 is a 2011 American computer-animated sp...</td>\n",
       "      <td>Larry the Cable Guy</td>\n",
       "      <td>Pixar Animation Studios</td>\n",
       "      <td>Denise Ream</td>\n",
       "      <td>Michael_Giacchino</td>\n",
       "    </tr>\n",
       "    <tr>\n",
       "      <th>18</th>\n",
       "      <td>Cars 2</td>\n",
       "      <td>John_Lasseter</td>\n",
       "      <td>United States</td>\n",
       "      <td>Cars 2 is a 2011 American computer-animated sp...</td>\n",
       "      <td>Michael Caine</td>\n",
       "      <td>Pixar Animation Studios</td>\n",
       "      <td>Denise Ream</td>\n",
       "      <td>Michael_Giacchino</td>\n",
       "    </tr>\n",
       "    <tr>\n",
       "      <th>19</th>\n",
       "      <td>Cars 2</td>\n",
       "      <td>John_Lasseter</td>\n",
       "      <td>United States</td>\n",
       "      <td>Cars 2 is a 2011 American computer-animated sp...</td>\n",
       "      <td>Owen Wilson</td>\n",
       "      <td>Pixar Animation Studios</td>\n",
       "      <td>Denise Ream</td>\n",
       "      <td>Michael_Giacchino</td>\n",
       "    </tr>\n",
       "    <tr>\n",
       "      <th>20</th>\n",
       "      <td>Cars 2</td>\n",
       "      <td>John_Lasseter</td>\n",
       "      <td>United States</td>\n",
       "      <td>Cars 2 is a 2011 American computer-animated sp...</td>\n",
       "      <td>John Turturro</td>\n",
       "      <td>Pixar Animation Studios</td>\n",
       "      <td>Denise Ream</td>\n",
       "      <td>Michael_Giacchino</td>\n",
       "    </tr>\n",
       "  </tbody>\n",
       "</table>\n",
       "</div>"
      ],
      "text/plain": [
       "      name       director        country  \\\n",
       "0   Cars 2  John_Lasseter  United States   \n",
       "1   Cars 2  John_Lasseter  United States   \n",
       "2   Cars 2  John_Lasseter  United States   \n",
       "3   Cars 2  John_Lasseter  United States   \n",
       "4   Cars 2  John_Lasseter  United States   \n",
       "5   Cars 2  John_Lasseter  United States   \n",
       "6   Cars 2  John_Lasseter  United States   \n",
       "7   Cars 2  John_Lasseter  United States   \n",
       "8   Cars 2  John_Lasseter  United States   \n",
       "9   Cars 2  John_Lasseter  United States   \n",
       "10  Cars 2  John_Lasseter  United States   \n",
       "11  Cars 2  John_Lasseter  United States   \n",
       "12  Cars 2  John_Lasseter  United States   \n",
       "13  Cars 2  John_Lasseter  United States   \n",
       "14  Cars 2  John_Lasseter  United States   \n",
       "15  Cars 2  John_Lasseter  United States   \n",
       "16  Cars 2  John_Lasseter  United States   \n",
       "17  Cars 2  John_Lasseter  United States   \n",
       "18  Cars 2  John_Lasseter  United States   \n",
       "19  Cars 2  John_Lasseter  United States   \n",
       "20  Cars 2  John_Lasseter  United States   \n",
       "\n",
       "                                             abstract             starring  \\\n",
       "0   Cars 2 is a 2011 American computer-animated sp...         Eddie Izzard   \n",
       "1   Cars 2 is a 2011 American computer-animated sp...                        \n",
       "2   Cars 2 is a 2011 American computer-animated sp...       Emily Mortimer   \n",
       "3   Cars 2 is a 2011 American computer-animated sp...  Larry the Cable Guy   \n",
       "4   Cars 2 is a 2011 American computer-animated sp...        Michael Caine   \n",
       "5   Cars 2 is a 2011 American computer-animated sp...          Owen Wilson   \n",
       "6   Cars 2 is a 2011 American computer-animated sp...        John Turturro   \n",
       "7   Cars 2 is a 2011 American computer-animated sp...         Eddie Izzard   \n",
       "8   Cars 2 is a 2011 American computer-animated sp...                        \n",
       "9   Cars 2 is a 2011 American computer-animated sp...       Emily Mortimer   \n",
       "10  Cars 2 is a 2011 American computer-animated sp...  Larry the Cable Guy   \n",
       "11  Cars 2 is a 2011 American computer-animated sp...        Michael Caine   \n",
       "12  Cars 2 is a 2011 American computer-animated sp...          Owen Wilson   \n",
       "13  Cars 2 is a 2011 American computer-animated sp...        John Turturro   \n",
       "14  Cars 2 is a 2011 American computer-animated sp...         Eddie Izzard   \n",
       "15  Cars 2 is a 2011 American computer-animated sp...                        \n",
       "16  Cars 2 is a 2011 American computer-animated sp...       Emily Mortimer   \n",
       "17  Cars 2 is a 2011 American computer-animated sp...  Larry the Cable Guy   \n",
       "18  Cars 2 is a 2011 American computer-animated sp...        Michael Caine   \n",
       "19  Cars 2 is a 2011 American computer-animated sp...          Owen Wilson   \n",
       "20  Cars 2 is a 2011 American computer-animated sp...        John Turturro   \n",
       "\n",
       "                     studio     producer              music  \n",
       "0                            Denise Ream  Michael_Giacchino  \n",
       "1                            Denise Ream  Michael_Giacchino  \n",
       "2                            Denise Ream  Michael_Giacchino  \n",
       "3                            Denise Ream  Michael_Giacchino  \n",
       "4                            Denise Ream  Michael_Giacchino  \n",
       "5                            Denise Ream  Michael_Giacchino  \n",
       "6                            Denise Ream  Michael_Giacchino  \n",
       "7      Walt Disney Pictures  Denise Ream  Michael_Giacchino  \n",
       "8      Walt Disney Pictures  Denise Ream  Michael_Giacchino  \n",
       "9      Walt Disney Pictures  Denise Ream  Michael_Giacchino  \n",
       "10     Walt Disney Pictures  Denise Ream  Michael_Giacchino  \n",
       "11     Walt Disney Pictures  Denise Ream  Michael_Giacchino  \n",
       "12     Walt Disney Pictures  Denise Ream  Michael_Giacchino  \n",
       "13     Walt Disney Pictures  Denise Ream  Michael_Giacchino  \n",
       "14  Pixar Animation Studios  Denise Ream  Michael_Giacchino  \n",
       "15  Pixar Animation Studios  Denise Ream  Michael_Giacchino  \n",
       "16  Pixar Animation Studios  Denise Ream  Michael_Giacchino  \n",
       "17  Pixar Animation Studios  Denise Ream  Michael_Giacchino  \n",
       "18  Pixar Animation Studios  Denise Ream  Michael_Giacchino  \n",
       "19  Pixar Animation Studios  Denise Ream  Michael_Giacchino  \n",
       "20  Pixar Animation Studios  Denise Ream  Michael_Giacchino  "
      ]
     },
     "execution_count": 5,
     "metadata": {},
     "output_type": "execute_result"
    }
   ],
   "source": [
    "detallePelicula(\"Cars_2\")"
   ]
  },
  {
   "cell_type": "markdown",
   "id": "4f3e03f8",
   "metadata": {},
   "source": [
    "## 2. Filtrando los datos de los actores (usando SPARQL)"
   ]
  },
  {
   "cell_type": "code",
   "execution_count": 6,
   "id": "565918c6",
   "metadata": {},
   "outputs": [],
   "source": [
    "sparql = SPARQLWrapper('https://dbpedia.org/sparql')\n",
    "def detalleActor(nombre):\n",
    "    sparql.setQuery('''\n",
    "        SELECT ?name ?birthDate ?birthPlace ?abstract\n",
    "        WHERE { \n",
    "                dbr:'''+nombre+''' dbp:name ?name .\n",
    "                dbr:'''+nombre+''' dbp:birthDate ?birthDate .\n",
    "                dbr:'''+nombre+''' dbp:birthPlace ?birthPlace .\n",
    "                dbr:'''+nombre+''' dbo:abstract ?abstract .\n",
    "\n",
    "                FILTER (lang(?abstract) = 'en')\n",
    "        }''')\n",
    "    sparql.setReturnFormat(JSON)\n",
    "    qres = sparql.query().convert()\n",
    "    \n",
    "    diccionarios = []\n",
    "    for res in qres[\"results\"][\"bindings\"]:\n",
    "        dic ={\n",
    "            \"name\":res[\"name\"][\"value\"].split(\"/\")[-1],\n",
    "            \"birthDate\":res[\"birthDate\"][\"value\"],\n",
    "            \"abstract\":res[\"abstract\"][\"value\"],\n",
    "            \"birthPlace\":res[\"birthPlace\"][\"value\"].split(\"/\")[-1],\n",
    "        }\n",
    "        diccionarios.append(dic)\n",
    "    print(len(diccionarios))\n",
    "    \n",
    "    dics_string = json.dumps(diccionarios)  \n",
    "    a_json = json.loads(dics_string)\n",
    "    dataframe = pd.DataFrame.from_dict(a_json)\n",
    "    dataframe.drop_duplicates()\n",
    "    \n",
    "    return dataframe"
   ]
  },
  {
   "cell_type": "code",
   "execution_count": 7,
   "id": "dbd91125",
   "metadata": {},
   "outputs": [],
   "source": [
    "def nuevoActor(nombre):\n",
    "    dataframe = detalleActor(nombre)\n",
    "    dataframe.reset_index()\n",
    "    dataframe.drop_duplicates()\n",
    "    return dataframe\n",
    "\n",
    "def enriquecerActor(dataframe,nombre):\n",
    "    df=dataframe.append(detalleActor(nombre))\n",
    "    df.reset_index()\n",
    "    df.drop_duplicates()\n",
    "    return df"
   ]
  },
  {
   "cell_type": "code",
   "execution_count": 8,
   "id": "26cf5617",
   "metadata": {},
   "outputs": [
    {
     "name": "stdout",
     "output_type": "stream",
     "text": [
      "2\n"
     ]
    },
    {
     "data": {
      "text/html": [
       "<div>\n",
       "<style scoped>\n",
       "    .dataframe tbody tr th:only-of-type {\n",
       "        vertical-align: middle;\n",
       "    }\n",
       "\n",
       "    .dataframe tbody tr th {\n",
       "        vertical-align: top;\n",
       "    }\n",
       "\n",
       "    .dataframe thead th {\n",
       "        text-align: right;\n",
       "    }\n",
       "</style>\n",
       "<table border=\"1\" class=\"dataframe\">\n",
       "  <thead>\n",
       "    <tr style=\"text-align: right;\">\n",
       "      <th></th>\n",
       "      <th>name</th>\n",
       "      <th>birthDate</th>\n",
       "      <th>abstract</th>\n",
       "      <th>birthPlace</th>\n",
       "    </tr>\n",
       "  </thead>\n",
       "  <tbody>\n",
       "    <tr>\n",
       "      <th>0</th>\n",
       "      <td>Eddie Izzard</td>\n",
       "      <td>1962-02-07</td>\n",
       "      <td>Eddie Izzard (/ˈɪzɑːrd/; born 7 February 1962)...</td>\n",
       "      <td>Aden</td>\n",
       "    </tr>\n",
       "    <tr>\n",
       "      <th>1</th>\n",
       "      <td>Eddie Izzard</td>\n",
       "      <td>1962-02-07</td>\n",
       "      <td>Eddie Izzard (/ˈɪzɑːrd/; born 7 February 1962)...</td>\n",
       "      <td>Aden_Colony</td>\n",
       "    </tr>\n",
       "  </tbody>\n",
       "</table>\n",
       "</div>"
      ],
      "text/plain": [
       "           name   birthDate  \\\n",
       "0  Eddie Izzard  1962-02-07   \n",
       "1  Eddie Izzard  1962-02-07   \n",
       "\n",
       "                                            abstract   birthPlace  \n",
       "0  Eddie Izzard (/ˈɪzɑːrd/; born 7 February 1962)...         Aden  \n",
       "1  Eddie Izzard (/ˈɪzɑːrd/; born 7 February 1962)...  Aden_Colony  "
      ]
     },
     "execution_count": 8,
     "metadata": {},
     "output_type": "execute_result"
    }
   ],
   "source": [
    "detalleActor(\"Eddie_Izzard\")"
   ]
  },
  {
   "cell_type": "markdown",
   "id": "57c96189",
   "metadata": {},
   "source": [
    "## 3. Método de Enriquecimiento Semántico"
   ]
  },
  {
   "cell_type": "markdown",
   "id": "10b62f96",
   "metadata": {},
   "source": [
    "### 3.1 Enriquecimiento Películas"
   ]
  },
  {
   "cell_type": "code",
   "execution_count": 9,
   "id": "9b982dc0",
   "metadata": {},
   "outputs": [
    {
     "name": "stdout",
     "output_type": "stream",
     "text": [
      "21\n"
     ]
    }
   ],
   "source": [
    "dataframe = nuevo (\"Cars_2\")"
   ]
  },
  {
   "cell_type": "code",
   "execution_count": 10,
   "id": "2fb93d82",
   "metadata": {
    "scrolled": false
   },
   "outputs": [
    {
     "name": "stdout",
     "output_type": "stream",
     "text": [
      "36\n"
     ]
    },
    {
     "name": "stderr",
     "output_type": "stream",
     "text": [
      "/tmp/ipykernel_7484/3882681488.py:8: FutureWarning: The frame.append method is deprecated and will be removed from pandas in a future version. Use pandas.concat instead.\n",
      "  df=dataframe.append(detallePelicula(titulo))\n"
     ]
    }
   ],
   "source": [
    "dataframe = enriquecer(dataframe,\"Toy_Story_3\")"
   ]
  },
  {
   "cell_type": "code",
   "execution_count": 11,
   "id": "dfd0ea18",
   "metadata": {},
   "outputs": [
    {
     "name": "stdout",
     "output_type": "stream",
     "text": [
      "54\n"
     ]
    },
    {
     "name": "stderr",
     "output_type": "stream",
     "text": [
      "/tmp/ipykernel_7484/3882681488.py:8: FutureWarning: The frame.append method is deprecated and will be removed from pandas in a future version. Use pandas.concat instead.\n",
      "  df=dataframe.append(detallePelicula(titulo))\n"
     ]
    }
   ],
   "source": [
    "dataframe = enriquecer(dataframe,\"The_Good_Dinosaur\")"
   ]
  },
  {
   "cell_type": "code",
   "execution_count": 12,
   "id": "ddb4da03",
   "metadata": {},
   "outputs": [
    {
     "data": {
      "text/plain": [
       "(111, 8)"
      ]
     },
     "execution_count": 12,
     "metadata": {},
     "output_type": "execute_result"
    }
   ],
   "source": [
    "dataframe.shape"
   ]
  },
  {
   "cell_type": "code",
   "execution_count": 13,
   "id": "dc47857d",
   "metadata": {},
   "outputs": [
    {
     "data": {
      "text/html": [
       "<div>\n",
       "<style scoped>\n",
       "    .dataframe tbody tr th:only-of-type {\n",
       "        vertical-align: middle;\n",
       "    }\n",
       "\n",
       "    .dataframe tbody tr th {\n",
       "        vertical-align: top;\n",
       "    }\n",
       "\n",
       "    .dataframe thead th {\n",
       "        text-align: right;\n",
       "    }\n",
       "</style>\n",
       "<table border=\"1\" class=\"dataframe\">\n",
       "  <thead>\n",
       "    <tr style=\"text-align: right;\">\n",
       "      <th></th>\n",
       "      <th>name</th>\n",
       "      <th>director</th>\n",
       "      <th>country</th>\n",
       "      <th>abstract</th>\n",
       "      <th>starring</th>\n",
       "      <th>studio</th>\n",
       "      <th>producer</th>\n",
       "      <th>music</th>\n",
       "    </tr>\n",
       "  </thead>\n",
       "  <tbody>\n",
       "    <tr>\n",
       "      <th>0</th>\n",
       "      <td>Cars 2</td>\n",
       "      <td>John_Lasseter</td>\n",
       "      <td>United States</td>\n",
       "      <td>Cars 2 is a 2011 American computer-animated sp...</td>\n",
       "      <td>Eddie Izzard</td>\n",
       "      <td></td>\n",
       "      <td>Denise Ream</td>\n",
       "      <td>Michael_Giacchino</td>\n",
       "    </tr>\n",
       "    <tr>\n",
       "      <th>1</th>\n",
       "      <td>Cars 2</td>\n",
       "      <td>John_Lasseter</td>\n",
       "      <td>United States</td>\n",
       "      <td>Cars 2 is a 2011 American computer-animated sp...</td>\n",
       "      <td></td>\n",
       "      <td></td>\n",
       "      <td>Denise Ream</td>\n",
       "      <td>Michael_Giacchino</td>\n",
       "    </tr>\n",
       "    <tr>\n",
       "      <th>2</th>\n",
       "      <td>Cars 2</td>\n",
       "      <td>John_Lasseter</td>\n",
       "      <td>United States</td>\n",
       "      <td>Cars 2 is a 2011 American computer-animated sp...</td>\n",
       "      <td>Emily Mortimer</td>\n",
       "      <td></td>\n",
       "      <td>Denise Ream</td>\n",
       "      <td>Michael_Giacchino</td>\n",
       "    </tr>\n",
       "    <tr>\n",
       "      <th>3</th>\n",
       "      <td>Cars 2</td>\n",
       "      <td>John_Lasseter</td>\n",
       "      <td>United States</td>\n",
       "      <td>Cars 2 is a 2011 American computer-animated sp...</td>\n",
       "      <td>Larry the Cable Guy</td>\n",
       "      <td></td>\n",
       "      <td>Denise Ream</td>\n",
       "      <td>Michael_Giacchino</td>\n",
       "    </tr>\n",
       "    <tr>\n",
       "      <th>4</th>\n",
       "      <td>Cars 2</td>\n",
       "      <td>John_Lasseter</td>\n",
       "      <td>United States</td>\n",
       "      <td>Cars 2 is a 2011 American computer-animated sp...</td>\n",
       "      <td>Michael Caine</td>\n",
       "      <td></td>\n",
       "      <td>Denise Ream</td>\n",
       "      <td>Michael_Giacchino</td>\n",
       "    </tr>\n",
       "  </tbody>\n",
       "</table>\n",
       "</div>"
      ],
      "text/plain": [
       "     name       director        country  \\\n",
       "0  Cars 2  John_Lasseter  United States   \n",
       "1  Cars 2  John_Lasseter  United States   \n",
       "2  Cars 2  John_Lasseter  United States   \n",
       "3  Cars 2  John_Lasseter  United States   \n",
       "4  Cars 2  John_Lasseter  United States   \n",
       "\n",
       "                                            abstract             starring  \\\n",
       "0  Cars 2 is a 2011 American computer-animated sp...         Eddie Izzard   \n",
       "1  Cars 2 is a 2011 American computer-animated sp...                        \n",
       "2  Cars 2 is a 2011 American computer-animated sp...       Emily Mortimer   \n",
       "3  Cars 2 is a 2011 American computer-animated sp...  Larry the Cable Guy   \n",
       "4  Cars 2 is a 2011 American computer-animated sp...        Michael Caine   \n",
       "\n",
       "  studio     producer              music  \n",
       "0         Denise Ream  Michael_Giacchino  \n",
       "1         Denise Ream  Michael_Giacchino  \n",
       "2         Denise Ream  Michael_Giacchino  \n",
       "3         Denise Ream  Michael_Giacchino  \n",
       "4         Denise Ream  Michael_Giacchino  "
      ]
     },
     "execution_count": 13,
     "metadata": {},
     "output_type": "execute_result"
    }
   ],
   "source": [
    "dataframe.head(5)"
   ]
  },
  {
   "cell_type": "markdown",
   "id": "bf6ecad8",
   "metadata": {},
   "source": [
    "### 3.2 Realizando búsqueda actores de las películas"
   ]
  },
  {
   "cell_type": "code",
   "execution_count": 29,
   "id": "f9eb1ff4",
   "metadata": {
    "scrolled": true
   },
   "outputs": [
    {
     "data": {
      "text/html": [
       "<div>\n",
       "<style scoped>\n",
       "    .dataframe tbody tr th:only-of-type {\n",
       "        vertical-align: middle;\n",
       "    }\n",
       "\n",
       "    .dataframe tbody tr th {\n",
       "        vertical-align: top;\n",
       "    }\n",
       "\n",
       "    .dataframe thead th {\n",
       "        text-align: right;\n",
       "    }\n",
       "</style>\n",
       "<table border=\"1\" class=\"dataframe\">\n",
       "  <thead>\n",
       "    <tr style=\"text-align: right;\">\n",
       "      <th></th>\n",
       "      <th>name</th>\n",
       "      <th>director</th>\n",
       "      <th>country</th>\n",
       "      <th>abstract_x</th>\n",
       "      <th>starring</th>\n",
       "      <th>studio</th>\n",
       "      <th>producer</th>\n",
       "      <th>music</th>\n",
       "      <th>new_starring</th>\n",
       "      <th>actorName</th>\n",
       "      <th>birthDate</th>\n",
       "      <th>abstract_y</th>\n",
       "      <th>birthPlace</th>\n",
       "      <th>birthYear</th>\n",
       "    </tr>\n",
       "  </thead>\n",
       "  <tbody>\n",
       "    <tr>\n",
       "      <th>0</th>\n",
       "      <td>Cars 2</td>\n",
       "      <td>John_Lasseter</td>\n",
       "      <td>United States</td>\n",
       "      <td>Cars 2 is a 2011 American computer-animated sp...</td>\n",
       "      <td>Eddie Izzard</td>\n",
       "      <td></td>\n",
       "      <td>Denise Ream</td>\n",
       "      <td>Michael_Giacchino</td>\n",
       "      <td>Eddie_Izzard</td>\n",
       "      <td>Eddie Izzard</td>\n",
       "      <td>1962-02-07 00:00:00</td>\n",
       "      <td>Eddie Izzard (/ˈɪzɑːrd/; born 7 February 1962)...</td>\n",
       "      <td>Aden</td>\n",
       "      <td>1962.0</td>\n",
       "    </tr>\n",
       "    <tr>\n",
       "      <th>1</th>\n",
       "      <td>Cars 2</td>\n",
       "      <td>John_Lasseter</td>\n",
       "      <td>United States</td>\n",
       "      <td>Cars 2 is a 2011 American computer-animated sp...</td>\n",
       "      <td>Eddie Izzard</td>\n",
       "      <td></td>\n",
       "      <td>Denise Ream</td>\n",
       "      <td>Michael_Giacchino</td>\n",
       "      <td>Eddie_Izzard</td>\n",
       "      <td>Eddie Izzard</td>\n",
       "      <td>1962-02-07 00:00:00</td>\n",
       "      <td>Eddie Izzard (/ˈɪzɑːrd/; born 7 February 1962)...</td>\n",
       "      <td>Aden_Colony</td>\n",
       "      <td>1962.0</td>\n",
       "    </tr>\n",
       "    <tr>\n",
       "      <th>2</th>\n",
       "      <td>Cars 2</td>\n",
       "      <td>John_Lasseter</td>\n",
       "      <td>United States</td>\n",
       "      <td>Cars 2 is a 2011 American computer-animated sp...</td>\n",
       "      <td>Eddie Izzard</td>\n",
       "      <td></td>\n",
       "      <td>Denise Ream</td>\n",
       "      <td>Michael_Giacchino</td>\n",
       "      <td>Eddie_Izzard</td>\n",
       "      <td>Eddie Izzard</td>\n",
       "      <td>1962-02-07 00:00:00</td>\n",
       "      <td>Eddie Izzard (/ˈɪzɑːrd/; born 7 February 1962)...</td>\n",
       "      <td>Aden</td>\n",
       "      <td>1962.0</td>\n",
       "    </tr>\n",
       "    <tr>\n",
       "      <th>3</th>\n",
       "      <td>Cars 2</td>\n",
       "      <td>John_Lasseter</td>\n",
       "      <td>United States</td>\n",
       "      <td>Cars 2 is a 2011 American computer-animated sp...</td>\n",
       "      <td>Eddie Izzard</td>\n",
       "      <td></td>\n",
       "      <td>Denise Ream</td>\n",
       "      <td>Michael_Giacchino</td>\n",
       "      <td>Eddie_Izzard</td>\n",
       "      <td>Eddie Izzard</td>\n",
       "      <td>1962-02-07 00:00:00</td>\n",
       "      <td>Eddie Izzard (/ˈɪzɑːrd/; born 7 February 1962)...</td>\n",
       "      <td>Aden_Colony</td>\n",
       "      <td>1962.0</td>\n",
       "    </tr>\n",
       "    <tr>\n",
       "      <th>4</th>\n",
       "      <td>Cars 2</td>\n",
       "      <td>John_Lasseter</td>\n",
       "      <td>United States</td>\n",
       "      <td>Cars 2 is a 2011 American computer-animated sp...</td>\n",
       "      <td></td>\n",
       "      <td></td>\n",
       "      <td>Denise Ream</td>\n",
       "      <td>Michael_Giacchino</td>\n",
       "      <td></td>\n",
       "      <td>-1</td>\n",
       "      <td>-1</td>\n",
       "      <td>-1</td>\n",
       "      <td>-1</td>\n",
       "      <td>-1.0</td>\n",
       "    </tr>\n",
       "  </tbody>\n",
       "</table>\n",
       "</div>"
      ],
      "text/plain": [
       "     name       director        country  \\\n",
       "0  Cars 2  John_Lasseter  United States   \n",
       "1  Cars 2  John_Lasseter  United States   \n",
       "2  Cars 2  John_Lasseter  United States   \n",
       "3  Cars 2  John_Lasseter  United States   \n",
       "4  Cars 2  John_Lasseter  United States   \n",
       "\n",
       "                                          abstract_x      starring studio  \\\n",
       "0  Cars 2 is a 2011 American computer-animated sp...  Eddie Izzard          \n",
       "1  Cars 2 is a 2011 American computer-animated sp...  Eddie Izzard          \n",
       "2  Cars 2 is a 2011 American computer-animated sp...  Eddie Izzard          \n",
       "3  Cars 2 is a 2011 American computer-animated sp...  Eddie Izzard          \n",
       "4  Cars 2 is a 2011 American computer-animated sp...                        \n",
       "\n",
       "      producer              music  new_starring     actorName  \\\n",
       "0  Denise Ream  Michael_Giacchino  Eddie_Izzard  Eddie Izzard   \n",
       "1  Denise Ream  Michael_Giacchino  Eddie_Izzard  Eddie Izzard   \n",
       "2  Denise Ream  Michael_Giacchino  Eddie_Izzard  Eddie Izzard   \n",
       "3  Denise Ream  Michael_Giacchino  Eddie_Izzard  Eddie Izzard   \n",
       "4  Denise Ream  Michael_Giacchino                          -1   \n",
       "\n",
       "             birthDate                                         abstract_y  \\\n",
       "0  1962-02-07 00:00:00  Eddie Izzard (/ˈɪzɑːrd/; born 7 February 1962)...   \n",
       "1  1962-02-07 00:00:00  Eddie Izzard (/ˈɪzɑːrd/; born 7 February 1962)...   \n",
       "2  1962-02-07 00:00:00  Eddie Izzard (/ˈɪzɑːrd/; born 7 February 1962)...   \n",
       "3  1962-02-07 00:00:00  Eddie Izzard (/ˈɪzɑːrd/; born 7 February 1962)...   \n",
       "4                   -1                                                 -1   \n",
       "\n",
       "    birthPlace  birthYear  \n",
       "0         Aden     1962.0  \n",
       "1  Aden_Colony     1962.0  \n",
       "2         Aden     1962.0  \n",
       "3  Aden_Colony     1962.0  \n",
       "4           -1       -1.0  "
      ]
     },
     "execution_count": 29,
     "metadata": {},
     "output_type": "execute_result"
    }
   ],
   "source": [
    "dataframe['new_starring'] = dataframe['starring'].str.replace(' ', '_')\n",
    "dataframe.head(5)"
   ]
  },
  {
   "cell_type": "code",
   "execution_count": 30,
   "id": "64ee87fb",
   "metadata": {},
   "outputs": [
    {
     "data": {
      "text/plain": [
       "'Eddie_Izzard'"
      ]
     },
     "execution_count": 30,
     "metadata": {},
     "output_type": "execute_result"
    }
   ],
   "source": [
    "dataframe.iloc[:1 , :]['new_starring'][0]"
   ]
  },
  {
   "cell_type": "code",
   "execution_count": 31,
   "id": "80c1c6f3",
   "metadata": {
    "scrolled": true
   },
   "outputs": [
    {
     "name": "stdout",
     "output_type": "stream",
     "text": [
      "2\n"
     ]
    },
    {
     "data": {
      "text/html": [
       "<div>\n",
       "<style scoped>\n",
       "    .dataframe tbody tr th:only-of-type {\n",
       "        vertical-align: middle;\n",
       "    }\n",
       "\n",
       "    .dataframe tbody tr th {\n",
       "        vertical-align: top;\n",
       "    }\n",
       "\n",
       "    .dataframe thead th {\n",
       "        text-align: right;\n",
       "    }\n",
       "</style>\n",
       "<table border=\"1\" class=\"dataframe\">\n",
       "  <thead>\n",
       "    <tr style=\"text-align: right;\">\n",
       "      <th></th>\n",
       "      <th>name</th>\n",
       "      <th>birthDate</th>\n",
       "      <th>abstract</th>\n",
       "      <th>birthPlace</th>\n",
       "    </tr>\n",
       "  </thead>\n",
       "  <tbody>\n",
       "    <tr>\n",
       "      <th>0</th>\n",
       "      <td>Eddie Izzard</td>\n",
       "      <td>1962-02-07</td>\n",
       "      <td>Eddie Izzard (/ˈɪzɑːrd/; born 7 February 1962)...</td>\n",
       "      <td>Aden</td>\n",
       "    </tr>\n",
       "    <tr>\n",
       "      <th>1</th>\n",
       "      <td>Eddie Izzard</td>\n",
       "      <td>1962-02-07</td>\n",
       "      <td>Eddie Izzard (/ˈɪzɑːrd/; born 7 February 1962)...</td>\n",
       "      <td>Aden_Colony</td>\n",
       "    </tr>\n",
       "  </tbody>\n",
       "</table>\n",
       "</div>"
      ],
      "text/plain": [
       "           name   birthDate  \\\n",
       "0  Eddie Izzard  1962-02-07   \n",
       "1  Eddie Izzard  1962-02-07   \n",
       "\n",
       "                                            abstract   birthPlace  \n",
       "0  Eddie Izzard (/ˈɪzɑːrd/; born 7 February 1962)...         Aden  \n",
       "1  Eddie Izzard (/ˈɪzɑːrd/; born 7 February 1962)...  Aden_Colony  "
      ]
     },
     "execution_count": 31,
     "metadata": {},
     "output_type": "execute_result"
    }
   ],
   "source": [
    "nuevoActor(\"Eddie_Izzard\")"
   ]
  },
  {
   "cell_type": "code",
   "execution_count": 32,
   "id": "e6ab1033",
   "metadata": {},
   "outputs": [
    {
     "name": "stdout",
     "output_type": "stream",
     "text": [
      "2\n"
     ]
    }
   ],
   "source": [
    "df_persona = nuevoActor( dataframe.iloc[:1 , :]['new_starring'][0] )"
   ]
  },
  {
   "cell_type": "code",
   "execution_count": 33,
   "id": "2015ffed",
   "metadata": {},
   "outputs": [
    {
     "data": {
      "text/html": [
       "<div>\n",
       "<style scoped>\n",
       "    .dataframe tbody tr th:only-of-type {\n",
       "        vertical-align: middle;\n",
       "    }\n",
       "\n",
       "    .dataframe tbody tr th {\n",
       "        vertical-align: top;\n",
       "    }\n",
       "\n",
       "    .dataframe thead th {\n",
       "        text-align: right;\n",
       "    }\n",
       "</style>\n",
       "<table border=\"1\" class=\"dataframe\">\n",
       "  <thead>\n",
       "    <tr style=\"text-align: right;\">\n",
       "      <th></th>\n",
       "      <th>name</th>\n",
       "      <th>birthDate</th>\n",
       "      <th>abstract</th>\n",
       "      <th>birthPlace</th>\n",
       "    </tr>\n",
       "  </thead>\n",
       "  <tbody>\n",
       "    <tr>\n",
       "      <th>0</th>\n",
       "      <td>Eddie Izzard</td>\n",
       "      <td>1962-02-07</td>\n",
       "      <td>Eddie Izzard (/ˈɪzɑːrd/; born 7 February 1962)...</td>\n",
       "      <td>Aden</td>\n",
       "    </tr>\n",
       "    <tr>\n",
       "      <th>1</th>\n",
       "      <td>Eddie Izzard</td>\n",
       "      <td>1962-02-07</td>\n",
       "      <td>Eddie Izzard (/ˈɪzɑːrd/; born 7 February 1962)...</td>\n",
       "      <td>Aden_Colony</td>\n",
       "    </tr>\n",
       "  </tbody>\n",
       "</table>\n",
       "</div>"
      ],
      "text/plain": [
       "           name   birthDate  \\\n",
       "0  Eddie Izzard  1962-02-07   \n",
       "1  Eddie Izzard  1962-02-07   \n",
       "\n",
       "                                            abstract   birthPlace  \n",
       "0  Eddie Izzard (/ˈɪzɑːrd/; born 7 February 1962)...         Aden  \n",
       "1  Eddie Izzard (/ˈɪzɑːrd/; born 7 February 1962)...  Aden_Colony  "
      ]
     },
     "execution_count": 33,
     "metadata": {},
     "output_type": "execute_result"
    }
   ],
   "source": [
    "df_persona"
   ]
  },
  {
   "cell_type": "code",
   "execution_count": 34,
   "id": "66facf4a",
   "metadata": {},
   "outputs": [
    {
     "name": "stdout",
     "output_type": "stream",
     "text": [
      "2\n"
     ]
    },
    {
     "name": "stderr",
     "output_type": "stream",
     "text": [
      "/tmp/ipykernel_7484/510372867.py:8: FutureWarning: The frame.append method is deprecated and will be removed from pandas in a future version. Use pandas.concat instead.\n",
      "  df=dataframe.append(detalleActor(nombre))\n"
     ]
    },
    {
     "name": "stdout",
     "output_type": "stream",
     "text": [
      "0\n"
     ]
    },
    {
     "name": "stderr",
     "output_type": "stream",
     "text": [
      "/tmp/ipykernel_7484/510372867.py:8: FutureWarning: The frame.append method is deprecated and will be removed from pandas in a future version. Use pandas.concat instead.\n",
      "  df=dataframe.append(detalleActor(nombre))\n"
     ]
    },
    {
     "name": "stdout",
     "output_type": "stream",
     "text": [
      "1\n"
     ]
    },
    {
     "name": "stderr",
     "output_type": "stream",
     "text": [
      "/tmp/ipykernel_7484/510372867.py:8: FutureWarning: The frame.append method is deprecated and will be removed from pandas in a future version. Use pandas.concat instead.\n",
      "  df=dataframe.append(detalleActor(nombre))\n"
     ]
    },
    {
     "name": "stdout",
     "output_type": "stream",
     "text": [
      "1\n"
     ]
    },
    {
     "name": "stderr",
     "output_type": "stream",
     "text": [
      "/tmp/ipykernel_7484/510372867.py:8: FutureWarning: The frame.append method is deprecated and will be removed from pandas in a future version. Use pandas.concat instead.\n",
      "  df=dataframe.append(detalleActor(nombre))\n"
     ]
    },
    {
     "name": "stdout",
     "output_type": "stream",
     "text": [
      "1\n"
     ]
    },
    {
     "name": "stderr",
     "output_type": "stream",
     "text": [
      "/tmp/ipykernel_7484/510372867.py:8: FutureWarning: The frame.append method is deprecated and will be removed from pandas in a future version. Use pandas.concat instead.\n",
      "  df=dataframe.append(detalleActor(nombre))\n"
     ]
    },
    {
     "name": "stdout",
     "output_type": "stream",
     "text": [
      "1\n"
     ]
    },
    {
     "name": "stderr",
     "output_type": "stream",
     "text": [
      "/tmp/ipykernel_7484/510372867.py:8: FutureWarning: The frame.append method is deprecated and will be removed from pandas in a future version. Use pandas.concat instead.\n",
      "  df=dataframe.append(detalleActor(nombre))\n"
     ]
    },
    {
     "name": "stdout",
     "output_type": "stream",
     "text": [
      "1\n"
     ]
    },
    {
     "name": "stderr",
     "output_type": "stream",
     "text": [
      "/tmp/ipykernel_7484/510372867.py:8: FutureWarning: The frame.append method is deprecated and will be removed from pandas in a future version. Use pandas.concat instead.\n",
      "  df=dataframe.append(detalleActor(nombre))\n"
     ]
    },
    {
     "name": "stdout",
     "output_type": "stream",
     "text": [
      "1\n"
     ]
    },
    {
     "name": "stderr",
     "output_type": "stream",
     "text": [
      "/tmp/ipykernel_7484/510372867.py:8: FutureWarning: The frame.append method is deprecated and will be removed from pandas in a future version. Use pandas.concat instead.\n",
      "  df=dataframe.append(detalleActor(nombre))\n"
     ]
    },
    {
     "name": "stdout",
     "output_type": "stream",
     "text": [
      "0\n"
     ]
    },
    {
     "name": "stderr",
     "output_type": "stream",
     "text": [
      "/tmp/ipykernel_7484/510372867.py:8: FutureWarning: The frame.append method is deprecated and will be removed from pandas in a future version. Use pandas.concat instead.\n",
      "  df=dataframe.append(detalleActor(nombre))\n"
     ]
    },
    {
     "name": "stdout",
     "output_type": "stream",
     "text": [
      "1\n"
     ]
    },
    {
     "name": "stderr",
     "output_type": "stream",
     "text": [
      "/tmp/ipykernel_7484/510372867.py:8: FutureWarning: The frame.append method is deprecated and will be removed from pandas in a future version. Use pandas.concat instead.\n",
      "  df=dataframe.append(detalleActor(nombre))\n"
     ]
    },
    {
     "name": "stdout",
     "output_type": "stream",
     "text": [
      "1\n"
     ]
    },
    {
     "name": "stderr",
     "output_type": "stream",
     "text": [
      "/tmp/ipykernel_7484/510372867.py:8: FutureWarning: The frame.append method is deprecated and will be removed from pandas in a future version. Use pandas.concat instead.\n",
      "  df=dataframe.append(detalleActor(nombre))\n"
     ]
    },
    {
     "name": "stdout",
     "output_type": "stream",
     "text": [
      "1\n"
     ]
    },
    {
     "name": "stderr",
     "output_type": "stream",
     "text": [
      "/tmp/ipykernel_7484/510372867.py:8: FutureWarning: The frame.append method is deprecated and will be removed from pandas in a future version. Use pandas.concat instead.\n",
      "  df=dataframe.append(detalleActor(nombre))\n"
     ]
    },
    {
     "name": "stdout",
     "output_type": "stream",
     "text": [
      "1\n"
     ]
    },
    {
     "name": "stderr",
     "output_type": "stream",
     "text": [
      "/tmp/ipykernel_7484/510372867.py:8: FutureWarning: The frame.append method is deprecated and will be removed from pandas in a future version. Use pandas.concat instead.\n",
      "  df=dataframe.append(detalleActor(nombre))\n"
     ]
    },
    {
     "name": "stdout",
     "output_type": "stream",
     "text": [
      "1\n"
     ]
    },
    {
     "name": "stderr",
     "output_type": "stream",
     "text": [
      "/tmp/ipykernel_7484/510372867.py:8: FutureWarning: The frame.append method is deprecated and will be removed from pandas in a future version. Use pandas.concat instead.\n",
      "  df=dataframe.append(detalleActor(nombre))\n"
     ]
    },
    {
     "name": "stdout",
     "output_type": "stream",
     "text": [
      "1\n"
     ]
    },
    {
     "name": "stderr",
     "output_type": "stream",
     "text": [
      "/tmp/ipykernel_7484/510372867.py:8: FutureWarning: The frame.append method is deprecated and will be removed from pandas in a future version. Use pandas.concat instead.\n",
      "  df=dataframe.append(detalleActor(nombre))\n"
     ]
    },
    {
     "name": "stdout",
     "output_type": "stream",
     "text": [
      "1\n"
     ]
    },
    {
     "name": "stderr",
     "output_type": "stream",
     "text": [
      "/tmp/ipykernel_7484/510372867.py:8: FutureWarning: The frame.append method is deprecated and will be removed from pandas in a future version. Use pandas.concat instead.\n",
      "  df=dataframe.append(detalleActor(nombre))\n"
     ]
    },
    {
     "name": "stdout",
     "output_type": "stream",
     "text": [
      "1\n"
     ]
    },
    {
     "name": "stderr",
     "output_type": "stream",
     "text": [
      "/tmp/ipykernel_7484/510372867.py:8: FutureWarning: The frame.append method is deprecated and will be removed from pandas in a future version. Use pandas.concat instead.\n",
      "  df=dataframe.append(detalleActor(nombre))\n"
     ]
    },
    {
     "name": "stdout",
     "output_type": "stream",
     "text": [
      "1\n"
     ]
    },
    {
     "name": "stderr",
     "output_type": "stream",
     "text": [
      "/tmp/ipykernel_7484/510372867.py:8: FutureWarning: The frame.append method is deprecated and will be removed from pandas in a future version. Use pandas.concat instead.\n",
      "  df=dataframe.append(detalleActor(nombre))\n"
     ]
    },
    {
     "name": "stdout",
     "output_type": "stream",
     "text": [
      "1\n"
     ]
    },
    {
     "name": "stderr",
     "output_type": "stream",
     "text": [
      "/tmp/ipykernel_7484/510372867.py:8: FutureWarning: The frame.append method is deprecated and will be removed from pandas in a future version. Use pandas.concat instead.\n",
      "  df=dataframe.append(detalleActor(nombre))\n"
     ]
    },
    {
     "name": "stdout",
     "output_type": "stream",
     "text": [
      "0\n"
     ]
    },
    {
     "name": "stderr",
     "output_type": "stream",
     "text": [
      "/tmp/ipykernel_7484/510372867.py:8: FutureWarning: The frame.append method is deprecated and will be removed from pandas in a future version. Use pandas.concat instead.\n",
      "  df=dataframe.append(detalleActor(nombre))\n"
     ]
    },
    {
     "name": "stdout",
     "output_type": "stream",
     "text": [
      "1\n"
     ]
    },
    {
     "name": "stderr",
     "output_type": "stream",
     "text": [
      "/tmp/ipykernel_7484/510372867.py:8: FutureWarning: The frame.append method is deprecated and will be removed from pandas in a future version. Use pandas.concat instead.\n",
      "  df=dataframe.append(detalleActor(nombre))\n"
     ]
    },
    {
     "name": "stdout",
     "output_type": "stream",
     "text": [
      "1\n"
     ]
    },
    {
     "name": "stderr",
     "output_type": "stream",
     "text": [
      "/tmp/ipykernel_7484/510372867.py:8: FutureWarning: The frame.append method is deprecated and will be removed from pandas in a future version. Use pandas.concat instead.\n",
      "  df=dataframe.append(detalleActor(nombre))\n"
     ]
    },
    {
     "name": "stdout",
     "output_type": "stream",
     "text": [
      "1\n"
     ]
    },
    {
     "name": "stderr",
     "output_type": "stream",
     "text": [
      "/tmp/ipykernel_7484/510372867.py:8: FutureWarning: The frame.append method is deprecated and will be removed from pandas in a future version. Use pandas.concat instead.\n",
      "  df=dataframe.append(detalleActor(nombre))\n"
     ]
    },
    {
     "name": "stdout",
     "output_type": "stream",
     "text": [
      "1\n"
     ]
    },
    {
     "name": "stderr",
     "output_type": "stream",
     "text": [
      "/tmp/ipykernel_7484/510372867.py:8: FutureWarning: The frame.append method is deprecated and will be removed from pandas in a future version. Use pandas.concat instead.\n",
      "  df=dataframe.append(detalleActor(nombre))\n"
     ]
    },
    {
     "name": "stdout",
     "output_type": "stream",
     "text": [
      "1\n"
     ]
    },
    {
     "name": "stderr",
     "output_type": "stream",
     "text": [
      "/tmp/ipykernel_7484/510372867.py:8: FutureWarning: The frame.append method is deprecated and will be removed from pandas in a future version. Use pandas.concat instead.\n",
      "  df=dataframe.append(detalleActor(nombre))\n"
     ]
    },
    {
     "name": "stdout",
     "output_type": "stream",
     "text": [
      "1\n"
     ]
    },
    {
     "name": "stderr",
     "output_type": "stream",
     "text": [
      "/tmp/ipykernel_7484/510372867.py:8: FutureWarning: The frame.append method is deprecated and will be removed from pandas in a future version. Use pandas.concat instead.\n",
      "  df=dataframe.append(detalleActor(nombre))\n"
     ]
    }
   ],
   "source": [
    "for actor in dataframe.iloc[1: , :]['new_starring'].unique():\n",
    "    try:\n",
    "        df_persona = enriquecerActor(df_persona, actor)\n",
    "    except:  \n",
    "        print(actor)"
   ]
  },
  {
   "cell_type": "code",
   "execution_count": 35,
   "id": "cfcf18aa",
   "metadata": {},
   "outputs": [
    {
     "data": {
      "text/plain": [
       "array(['Eddie_Izzard', '', 'Emily_Mortimer', 'Larry_the_Cable_Guy',\n",
       "       'Michael_Caine', 'Owen_Wilson', 'John_Turturro', 'Tom_Hanks',\n",
       "       'John_Morris', 'Ned_Beatty', 'Tim_Allen', 'Wallace_Shawn',\n",
       "       'Joan_Cusack', 'Michael_Keaton', 'Jodi_Benson', 'Estelle_Harris',\n",
       "       'Don_Rickles', 'John_Ratzenberger', 'Sam_Elliott', 'Jack_Bright',\n",
       "       'Anna_Paquin', 'Frances_McDormand', 'Steve_Zahn', 'A._J._Buckley',\n",
       "       'Jeffrey_Wright', 'Raymond_Ochoa'], dtype=object)"
      ]
     },
     "execution_count": 35,
     "metadata": {},
     "output_type": "execute_result"
    }
   ],
   "source": [
    "dataframe.iloc[1: , :]['new_starring'].unique()"
   ]
  },
  {
   "cell_type": "code",
   "execution_count": 36,
   "id": "38032dc2",
   "metadata": {},
   "outputs": [],
   "source": [
    "df_persona.rename( columns={'name':'actorName'}, inplace=True )"
   ]
  },
  {
   "cell_type": "code",
   "execution_count": 37,
   "id": "eeec3768",
   "metadata": {
    "scrolled": true
   },
   "outputs": [
    {
     "data": {
      "text/html": [
       "<div>\n",
       "<style scoped>\n",
       "    .dataframe tbody tr th:only-of-type {\n",
       "        vertical-align: middle;\n",
       "    }\n",
       "\n",
       "    .dataframe tbody tr th {\n",
       "        vertical-align: top;\n",
       "    }\n",
       "\n",
       "    .dataframe thead th {\n",
       "        text-align: right;\n",
       "    }\n",
       "</style>\n",
       "<table border=\"1\" class=\"dataframe\">\n",
       "  <thead>\n",
       "    <tr style=\"text-align: right;\">\n",
       "      <th></th>\n",
       "      <th>actorName</th>\n",
       "      <th>birthDate</th>\n",
       "      <th>abstract</th>\n",
       "      <th>birthPlace</th>\n",
       "    </tr>\n",
       "  </thead>\n",
       "  <tbody>\n",
       "    <tr>\n",
       "      <th>0</th>\n",
       "      <td>Eddie Izzard</td>\n",
       "      <td>1962-02-07</td>\n",
       "      <td>Eddie Izzard (/ˈɪzɑːrd/; born 7 February 1962)...</td>\n",
       "      <td>Aden</td>\n",
       "    </tr>\n",
       "    <tr>\n",
       "      <th>1</th>\n",
       "      <td>Eddie Izzard</td>\n",
       "      <td>1962-02-07</td>\n",
       "      <td>Eddie Izzard (/ˈɪzɑːrd/; born 7 February 1962)...</td>\n",
       "      <td>Aden_Colony</td>\n",
       "    </tr>\n",
       "    <tr>\n",
       "      <th>0</th>\n",
       "      <td>Eddie Izzard</td>\n",
       "      <td>1962-02-07</td>\n",
       "      <td>Eddie Izzard (/ˈɪzɑːrd/; born 7 February 1962)...</td>\n",
       "      <td>Aden</td>\n",
       "    </tr>\n",
       "    <tr>\n",
       "      <th>1</th>\n",
       "      <td>Eddie Izzard</td>\n",
       "      <td>1962-02-07</td>\n",
       "      <td>Eddie Izzard (/ˈɪzɑːrd/; born 7 February 1962)...</td>\n",
       "      <td>Aden_Colony</td>\n",
       "    </tr>\n",
       "    <tr>\n",
       "      <th>0</th>\n",
       "      <td>Emily Mortimer</td>\n",
       "      <td>1971-10-06</td>\n",
       "      <td>Emily Kathleen Anne Mortimer (born 6 October 1...</td>\n",
       "      <td>Hammersmith, London, England</td>\n",
       "    </tr>\n",
       "  </tbody>\n",
       "</table>\n",
       "</div>"
      ],
      "text/plain": [
       "        actorName   birthDate  \\\n",
       "0    Eddie Izzard  1962-02-07   \n",
       "1    Eddie Izzard  1962-02-07   \n",
       "0    Eddie Izzard  1962-02-07   \n",
       "1    Eddie Izzard  1962-02-07   \n",
       "0  Emily Mortimer  1971-10-06   \n",
       "\n",
       "                                            abstract  \\\n",
       "0  Eddie Izzard (/ˈɪzɑːrd/; born 7 February 1962)...   \n",
       "1  Eddie Izzard (/ˈɪzɑːrd/; born 7 February 1962)...   \n",
       "0  Eddie Izzard (/ˈɪzɑːrd/; born 7 February 1962)...   \n",
       "1  Eddie Izzard (/ˈɪzɑːrd/; born 7 February 1962)...   \n",
       "0  Emily Kathleen Anne Mortimer (born 6 October 1...   \n",
       "\n",
       "                     birthPlace  \n",
       "0                          Aden  \n",
       "1                   Aden_Colony  \n",
       "0                          Aden  \n",
       "1                   Aden_Colony  \n",
       "0  Hammersmith, London, England  "
      ]
     },
     "execution_count": 37,
     "metadata": {},
     "output_type": "execute_result"
    }
   ],
   "source": [
    "df_persona.head(5)"
   ]
  },
  {
   "cell_type": "markdown",
   "id": "f666db0e",
   "metadata": {},
   "source": [
    "### 3.3 Uniendo Tabla Película - Personajes"
   ]
  },
  {
   "cell_type": "code",
   "execution_count": 38,
   "id": "b90360f6",
   "metadata": {},
   "outputs": [],
   "source": [
    "dataframe = pd.merge( dataframe, df_persona, how='left', left_on='starring', right_on='actorName'  )"
   ]
  },
  {
   "cell_type": "code",
   "execution_count": 39,
   "id": "9cae0b2a",
   "metadata": {},
   "outputs": [
    {
     "data": {
      "text/html": [
       "<div>\n",
       "<style scoped>\n",
       "    .dataframe tbody tr th:only-of-type {\n",
       "        vertical-align: middle;\n",
       "    }\n",
       "\n",
       "    .dataframe tbody tr th {\n",
       "        vertical-align: top;\n",
       "    }\n",
       "\n",
       "    .dataframe thead th {\n",
       "        text-align: right;\n",
       "    }\n",
       "</style>\n",
       "<table border=\"1\" class=\"dataframe\">\n",
       "  <thead>\n",
       "    <tr style=\"text-align: right;\">\n",
       "      <th></th>\n",
       "      <th>name</th>\n",
       "      <th>director</th>\n",
       "      <th>country</th>\n",
       "      <th>abstract_x</th>\n",
       "      <th>starring</th>\n",
       "      <th>studio</th>\n",
       "      <th>producer</th>\n",
       "      <th>music</th>\n",
       "      <th>new_starring</th>\n",
       "      <th>actorName_x</th>\n",
       "      <th>birthDate_x</th>\n",
       "      <th>abstract_y</th>\n",
       "      <th>birthPlace_x</th>\n",
       "      <th>birthYear</th>\n",
       "      <th>actorName_y</th>\n",
       "      <th>birthDate_y</th>\n",
       "      <th>abstract</th>\n",
       "      <th>birthPlace_y</th>\n",
       "    </tr>\n",
       "  </thead>\n",
       "  <tbody>\n",
       "    <tr>\n",
       "      <th>0</th>\n",
       "      <td>Cars 2</td>\n",
       "      <td>John_Lasseter</td>\n",
       "      <td>United States</td>\n",
       "      <td>Cars 2 is a 2011 American computer-animated sp...</td>\n",
       "      <td>Eddie Izzard</td>\n",
       "      <td></td>\n",
       "      <td>Denise Ream</td>\n",
       "      <td>Michael_Giacchino</td>\n",
       "      <td>Eddie_Izzard</td>\n",
       "      <td>Eddie Izzard</td>\n",
       "      <td>1962-02-07 00:00:00</td>\n",
       "      <td>Eddie Izzard (/ˈɪzɑːrd/; born 7 February 1962)...</td>\n",
       "      <td>Aden</td>\n",
       "      <td>1962.0</td>\n",
       "      <td>Eddie Izzard</td>\n",
       "      <td>1962-02-07</td>\n",
       "      <td>Eddie Izzard (/ˈɪzɑːrd/; born 7 February 1962)...</td>\n",
       "      <td>Aden</td>\n",
       "    </tr>\n",
       "    <tr>\n",
       "      <th>1</th>\n",
       "      <td>Cars 2</td>\n",
       "      <td>John_Lasseter</td>\n",
       "      <td>United States</td>\n",
       "      <td>Cars 2 is a 2011 American computer-animated sp...</td>\n",
       "      <td>Eddie Izzard</td>\n",
       "      <td></td>\n",
       "      <td>Denise Ream</td>\n",
       "      <td>Michael_Giacchino</td>\n",
       "      <td>Eddie_Izzard</td>\n",
       "      <td>Eddie Izzard</td>\n",
       "      <td>1962-02-07 00:00:00</td>\n",
       "      <td>Eddie Izzard (/ˈɪzɑːrd/; born 7 February 1962)...</td>\n",
       "      <td>Aden</td>\n",
       "      <td>1962.0</td>\n",
       "      <td>Eddie Izzard</td>\n",
       "      <td>1962-02-07</td>\n",
       "      <td>Eddie Izzard (/ˈɪzɑːrd/; born 7 February 1962)...</td>\n",
       "      <td>Aden_Colony</td>\n",
       "    </tr>\n",
       "    <tr>\n",
       "      <th>2</th>\n",
       "      <td>Cars 2</td>\n",
       "      <td>John_Lasseter</td>\n",
       "      <td>United States</td>\n",
       "      <td>Cars 2 is a 2011 American computer-animated sp...</td>\n",
       "      <td>Eddie Izzard</td>\n",
       "      <td></td>\n",
       "      <td>Denise Ream</td>\n",
       "      <td>Michael_Giacchino</td>\n",
       "      <td>Eddie_Izzard</td>\n",
       "      <td>Eddie Izzard</td>\n",
       "      <td>1962-02-07 00:00:00</td>\n",
       "      <td>Eddie Izzard (/ˈɪzɑːrd/; born 7 February 1962)...</td>\n",
       "      <td>Aden</td>\n",
       "      <td>1962.0</td>\n",
       "      <td>Eddie Izzard</td>\n",
       "      <td>1962-02-07</td>\n",
       "      <td>Eddie Izzard (/ˈɪzɑːrd/; born 7 February 1962)...</td>\n",
       "      <td>Aden</td>\n",
       "    </tr>\n",
       "    <tr>\n",
       "      <th>3</th>\n",
       "      <td>Cars 2</td>\n",
       "      <td>John_Lasseter</td>\n",
       "      <td>United States</td>\n",
       "      <td>Cars 2 is a 2011 American computer-animated sp...</td>\n",
       "      <td>Eddie Izzard</td>\n",
       "      <td></td>\n",
       "      <td>Denise Ream</td>\n",
       "      <td>Michael_Giacchino</td>\n",
       "      <td>Eddie_Izzard</td>\n",
       "      <td>Eddie Izzard</td>\n",
       "      <td>1962-02-07 00:00:00</td>\n",
       "      <td>Eddie Izzard (/ˈɪzɑːrd/; born 7 February 1962)...</td>\n",
       "      <td>Aden</td>\n",
       "      <td>1962.0</td>\n",
       "      <td>Eddie Izzard</td>\n",
       "      <td>1962-02-07</td>\n",
       "      <td>Eddie Izzard (/ˈɪzɑːrd/; born 7 February 1962)...</td>\n",
       "      <td>Aden_Colony</td>\n",
       "    </tr>\n",
       "    <tr>\n",
       "      <th>4</th>\n",
       "      <td>Cars 2</td>\n",
       "      <td>John_Lasseter</td>\n",
       "      <td>United States</td>\n",
       "      <td>Cars 2 is a 2011 American computer-animated sp...</td>\n",
       "      <td>Eddie Izzard</td>\n",
       "      <td></td>\n",
       "      <td>Denise Ream</td>\n",
       "      <td>Michael_Giacchino</td>\n",
       "      <td>Eddie_Izzard</td>\n",
       "      <td>Eddie Izzard</td>\n",
       "      <td>1962-02-07 00:00:00</td>\n",
       "      <td>Eddie Izzard (/ˈɪzɑːrd/; born 7 February 1962)...</td>\n",
       "      <td>Aden_Colony</td>\n",
       "      <td>1962.0</td>\n",
       "      <td>Eddie Izzard</td>\n",
       "      <td>1962-02-07</td>\n",
       "      <td>Eddie Izzard (/ˈɪzɑːrd/; born 7 February 1962)...</td>\n",
       "      <td>Aden</td>\n",
       "    </tr>\n",
       "  </tbody>\n",
       "</table>\n",
       "</div>"
      ],
      "text/plain": [
       "     name       director        country  \\\n",
       "0  Cars 2  John_Lasseter  United States   \n",
       "1  Cars 2  John_Lasseter  United States   \n",
       "2  Cars 2  John_Lasseter  United States   \n",
       "3  Cars 2  John_Lasseter  United States   \n",
       "4  Cars 2  John_Lasseter  United States   \n",
       "\n",
       "                                          abstract_x      starring studio  \\\n",
       "0  Cars 2 is a 2011 American computer-animated sp...  Eddie Izzard          \n",
       "1  Cars 2 is a 2011 American computer-animated sp...  Eddie Izzard          \n",
       "2  Cars 2 is a 2011 American computer-animated sp...  Eddie Izzard          \n",
       "3  Cars 2 is a 2011 American computer-animated sp...  Eddie Izzard          \n",
       "4  Cars 2 is a 2011 American computer-animated sp...  Eddie Izzard          \n",
       "\n",
       "      producer              music  new_starring   actorName_x  \\\n",
       "0  Denise Ream  Michael_Giacchino  Eddie_Izzard  Eddie Izzard   \n",
       "1  Denise Ream  Michael_Giacchino  Eddie_Izzard  Eddie Izzard   \n",
       "2  Denise Ream  Michael_Giacchino  Eddie_Izzard  Eddie Izzard   \n",
       "3  Denise Ream  Michael_Giacchino  Eddie_Izzard  Eddie Izzard   \n",
       "4  Denise Ream  Michael_Giacchino  Eddie_Izzard  Eddie Izzard   \n",
       "\n",
       "           birthDate_x                                         abstract_y  \\\n",
       "0  1962-02-07 00:00:00  Eddie Izzard (/ˈɪzɑːrd/; born 7 February 1962)...   \n",
       "1  1962-02-07 00:00:00  Eddie Izzard (/ˈɪzɑːrd/; born 7 February 1962)...   \n",
       "2  1962-02-07 00:00:00  Eddie Izzard (/ˈɪzɑːrd/; born 7 February 1962)...   \n",
       "3  1962-02-07 00:00:00  Eddie Izzard (/ˈɪzɑːrd/; born 7 February 1962)...   \n",
       "4  1962-02-07 00:00:00  Eddie Izzard (/ˈɪzɑːrd/; born 7 February 1962)...   \n",
       "\n",
       "  birthPlace_x  birthYear   actorName_y birthDate_y  \\\n",
       "0         Aden     1962.0  Eddie Izzard  1962-02-07   \n",
       "1         Aden     1962.0  Eddie Izzard  1962-02-07   \n",
       "2         Aden     1962.0  Eddie Izzard  1962-02-07   \n",
       "3         Aden     1962.0  Eddie Izzard  1962-02-07   \n",
       "4  Aden_Colony     1962.0  Eddie Izzard  1962-02-07   \n",
       "\n",
       "                                            abstract birthPlace_y  \n",
       "0  Eddie Izzard (/ˈɪzɑːrd/; born 7 February 1962)...         Aden  \n",
       "1  Eddie Izzard (/ˈɪzɑːrd/; born 7 February 1962)...  Aden_Colony  \n",
       "2  Eddie Izzard (/ˈɪzɑːrd/; born 7 February 1962)...         Aden  \n",
       "3  Eddie Izzard (/ˈɪzɑːrd/; born 7 February 1962)...  Aden_Colony  \n",
       "4  Eddie Izzard (/ˈɪzɑːrd/; born 7 February 1962)...         Aden  "
      ]
     },
     "execution_count": 39,
     "metadata": {},
     "output_type": "execute_result"
    }
   ],
   "source": [
    "dataframe.head(5)"
   ]
  },
  {
   "cell_type": "code",
   "execution_count": 40,
   "id": "57a94564",
   "metadata": {},
   "outputs": [],
   "source": [
    "dataframe.fillna(-1, inplace=True)"
   ]
  },
  {
   "cell_type": "code",
   "execution_count": 41,
   "id": "f35599db",
   "metadata": {},
   "outputs": [
    {
     "data": {
      "text/plain": [
       "(156, 18)"
      ]
     },
     "execution_count": 41,
     "metadata": {},
     "output_type": "execute_result"
    }
   ],
   "source": [
    "dataframe.shape"
   ]
  },
  {
   "cell_type": "code",
   "execution_count": 42,
   "id": "e8358d80",
   "metadata": {},
   "outputs": [
    {
     "data": {
      "text/html": [
       "<div>\n",
       "<style scoped>\n",
       "    .dataframe tbody tr th:only-of-type {\n",
       "        vertical-align: middle;\n",
       "    }\n",
       "\n",
       "    .dataframe tbody tr th {\n",
       "        vertical-align: top;\n",
       "    }\n",
       "\n",
       "    .dataframe thead th {\n",
       "        text-align: right;\n",
       "    }\n",
       "</style>\n",
       "<table border=\"1\" class=\"dataframe\">\n",
       "  <thead>\n",
       "    <tr style=\"text-align: right;\">\n",
       "      <th></th>\n",
       "      <th>name</th>\n",
       "      <th>director</th>\n",
       "      <th>country</th>\n",
       "      <th>abstract_x</th>\n",
       "      <th>starring</th>\n",
       "      <th>studio</th>\n",
       "      <th>producer</th>\n",
       "      <th>music</th>\n",
       "      <th>new_starring</th>\n",
       "      <th>actorName_x</th>\n",
       "      <th>birthDate_x</th>\n",
       "      <th>abstract_y</th>\n",
       "      <th>birthPlace_x</th>\n",
       "      <th>birthYear</th>\n",
       "      <th>actorName_y</th>\n",
       "      <th>birthDate_y</th>\n",
       "      <th>abstract</th>\n",
       "      <th>birthPlace_y</th>\n",
       "    </tr>\n",
       "  </thead>\n",
       "  <tbody>\n",
       "    <tr>\n",
       "      <th>0</th>\n",
       "      <td>Cars 2</td>\n",
       "      <td>John_Lasseter</td>\n",
       "      <td>United States</td>\n",
       "      <td>Cars 2 is a 2011 American computer-animated sp...</td>\n",
       "      <td>Eddie Izzard</td>\n",
       "      <td></td>\n",
       "      <td>Denise Ream</td>\n",
       "      <td>Michael_Giacchino</td>\n",
       "      <td>Eddie_Izzard</td>\n",
       "      <td>Eddie Izzard</td>\n",
       "      <td>1962-02-07 00:00:00</td>\n",
       "      <td>Eddie Izzard (/ˈɪzɑːrd/; born 7 February 1962)...</td>\n",
       "      <td>Aden</td>\n",
       "      <td>1962.0</td>\n",
       "      <td>Eddie Izzard</td>\n",
       "      <td>1962-02-07</td>\n",
       "      <td>Eddie Izzard (/ˈɪzɑːrd/; born 7 February 1962)...</td>\n",
       "      <td>Aden</td>\n",
       "    </tr>\n",
       "    <tr>\n",
       "      <th>1</th>\n",
       "      <td>Cars 2</td>\n",
       "      <td>John_Lasseter</td>\n",
       "      <td>United States</td>\n",
       "      <td>Cars 2 is a 2011 American computer-animated sp...</td>\n",
       "      <td>Eddie Izzard</td>\n",
       "      <td></td>\n",
       "      <td>Denise Ream</td>\n",
       "      <td>Michael_Giacchino</td>\n",
       "      <td>Eddie_Izzard</td>\n",
       "      <td>Eddie Izzard</td>\n",
       "      <td>1962-02-07 00:00:00</td>\n",
       "      <td>Eddie Izzard (/ˈɪzɑːrd/; born 7 February 1962)...</td>\n",
       "      <td>Aden</td>\n",
       "      <td>1962.0</td>\n",
       "      <td>Eddie Izzard</td>\n",
       "      <td>1962-02-07</td>\n",
       "      <td>Eddie Izzard (/ˈɪzɑːrd/; born 7 February 1962)...</td>\n",
       "      <td>Aden_Colony</td>\n",
       "    </tr>\n",
       "    <tr>\n",
       "      <th>2</th>\n",
       "      <td>Cars 2</td>\n",
       "      <td>John_Lasseter</td>\n",
       "      <td>United States</td>\n",
       "      <td>Cars 2 is a 2011 American computer-animated sp...</td>\n",
       "      <td>Eddie Izzard</td>\n",
       "      <td></td>\n",
       "      <td>Denise Ream</td>\n",
       "      <td>Michael_Giacchino</td>\n",
       "      <td>Eddie_Izzard</td>\n",
       "      <td>Eddie Izzard</td>\n",
       "      <td>1962-02-07 00:00:00</td>\n",
       "      <td>Eddie Izzard (/ˈɪzɑːrd/; born 7 February 1962)...</td>\n",
       "      <td>Aden</td>\n",
       "      <td>1962.0</td>\n",
       "      <td>Eddie Izzard</td>\n",
       "      <td>1962-02-07</td>\n",
       "      <td>Eddie Izzard (/ˈɪzɑːrd/; born 7 February 1962)...</td>\n",
       "      <td>Aden</td>\n",
       "    </tr>\n",
       "    <tr>\n",
       "      <th>3</th>\n",
       "      <td>Cars 2</td>\n",
       "      <td>John_Lasseter</td>\n",
       "      <td>United States</td>\n",
       "      <td>Cars 2 is a 2011 American computer-animated sp...</td>\n",
       "      <td>Eddie Izzard</td>\n",
       "      <td></td>\n",
       "      <td>Denise Ream</td>\n",
       "      <td>Michael_Giacchino</td>\n",
       "      <td>Eddie_Izzard</td>\n",
       "      <td>Eddie Izzard</td>\n",
       "      <td>1962-02-07 00:00:00</td>\n",
       "      <td>Eddie Izzard (/ˈɪzɑːrd/; born 7 February 1962)...</td>\n",
       "      <td>Aden</td>\n",
       "      <td>1962.0</td>\n",
       "      <td>Eddie Izzard</td>\n",
       "      <td>1962-02-07</td>\n",
       "      <td>Eddie Izzard (/ˈɪzɑːrd/; born 7 February 1962)...</td>\n",
       "      <td>Aden_Colony</td>\n",
       "    </tr>\n",
       "    <tr>\n",
       "      <th>4</th>\n",
       "      <td>Cars 2</td>\n",
       "      <td>John_Lasseter</td>\n",
       "      <td>United States</td>\n",
       "      <td>Cars 2 is a 2011 American computer-animated sp...</td>\n",
       "      <td>Eddie Izzard</td>\n",
       "      <td></td>\n",
       "      <td>Denise Ream</td>\n",
       "      <td>Michael_Giacchino</td>\n",
       "      <td>Eddie_Izzard</td>\n",
       "      <td>Eddie Izzard</td>\n",
       "      <td>1962-02-07 00:00:00</td>\n",
       "      <td>Eddie Izzard (/ˈɪzɑːrd/; born 7 February 1962)...</td>\n",
       "      <td>Aden_Colony</td>\n",
       "      <td>1962.0</td>\n",
       "      <td>Eddie Izzard</td>\n",
       "      <td>1962-02-07</td>\n",
       "      <td>Eddie Izzard (/ˈɪzɑːrd/; born 7 February 1962)...</td>\n",
       "      <td>Aden</td>\n",
       "    </tr>\n",
       "  </tbody>\n",
       "</table>\n",
       "</div>"
      ],
      "text/plain": [
       "     name       director        country  \\\n",
       "0  Cars 2  John_Lasseter  United States   \n",
       "1  Cars 2  John_Lasseter  United States   \n",
       "2  Cars 2  John_Lasseter  United States   \n",
       "3  Cars 2  John_Lasseter  United States   \n",
       "4  Cars 2  John_Lasseter  United States   \n",
       "\n",
       "                                          abstract_x      starring studio  \\\n",
       "0  Cars 2 is a 2011 American computer-animated sp...  Eddie Izzard          \n",
       "1  Cars 2 is a 2011 American computer-animated sp...  Eddie Izzard          \n",
       "2  Cars 2 is a 2011 American computer-animated sp...  Eddie Izzard          \n",
       "3  Cars 2 is a 2011 American computer-animated sp...  Eddie Izzard          \n",
       "4  Cars 2 is a 2011 American computer-animated sp...  Eddie Izzard          \n",
       "\n",
       "      producer              music  new_starring   actorName_x  \\\n",
       "0  Denise Ream  Michael_Giacchino  Eddie_Izzard  Eddie Izzard   \n",
       "1  Denise Ream  Michael_Giacchino  Eddie_Izzard  Eddie Izzard   \n",
       "2  Denise Ream  Michael_Giacchino  Eddie_Izzard  Eddie Izzard   \n",
       "3  Denise Ream  Michael_Giacchino  Eddie_Izzard  Eddie Izzard   \n",
       "4  Denise Ream  Michael_Giacchino  Eddie_Izzard  Eddie Izzard   \n",
       "\n",
       "           birthDate_x                                         abstract_y  \\\n",
       "0  1962-02-07 00:00:00  Eddie Izzard (/ˈɪzɑːrd/; born 7 February 1962)...   \n",
       "1  1962-02-07 00:00:00  Eddie Izzard (/ˈɪzɑːrd/; born 7 February 1962)...   \n",
       "2  1962-02-07 00:00:00  Eddie Izzard (/ˈɪzɑːrd/; born 7 February 1962)...   \n",
       "3  1962-02-07 00:00:00  Eddie Izzard (/ˈɪzɑːrd/; born 7 February 1962)...   \n",
       "4  1962-02-07 00:00:00  Eddie Izzard (/ˈɪzɑːrd/; born 7 February 1962)...   \n",
       "\n",
       "  birthPlace_x  birthYear   actorName_y birthDate_y  \\\n",
       "0         Aden     1962.0  Eddie Izzard  1962-02-07   \n",
       "1         Aden     1962.0  Eddie Izzard  1962-02-07   \n",
       "2         Aden     1962.0  Eddie Izzard  1962-02-07   \n",
       "3         Aden     1962.0  Eddie Izzard  1962-02-07   \n",
       "4  Aden_Colony     1962.0  Eddie Izzard  1962-02-07   \n",
       "\n",
       "                                            abstract birthPlace_y  \n",
       "0  Eddie Izzard (/ˈɪzɑːrd/; born 7 February 1962)...         Aden  \n",
       "1  Eddie Izzard (/ˈɪzɑːrd/; born 7 February 1962)...  Aden_Colony  \n",
       "2  Eddie Izzard (/ˈɪzɑːrd/; born 7 February 1962)...         Aden  \n",
       "3  Eddie Izzard (/ˈɪzɑːrd/; born 7 February 1962)...  Aden_Colony  \n",
       "4  Eddie Izzard (/ˈɪzɑːrd/; born 7 February 1962)...         Aden  "
      ]
     },
     "execution_count": 42,
     "metadata": {},
     "output_type": "execute_result"
    }
   ],
   "source": [
    "dataframe.head(5)"
   ]
  },
  {
   "cell_type": "code",
   "execution_count": 45,
   "id": "cd463ba3",
   "metadata": {},
   "outputs": [
    {
     "data": {
      "text/html": [
       "<div>\n",
       "<style scoped>\n",
       "    .dataframe tbody tr th:only-of-type {\n",
       "        vertical-align: middle;\n",
       "    }\n",
       "\n",
       "    .dataframe tbody tr th {\n",
       "        vertical-align: top;\n",
       "    }\n",
       "\n",
       "    .dataframe thead th {\n",
       "        text-align: right;\n",
       "    }\n",
       "</style>\n",
       "<table border=\"1\" class=\"dataframe\">\n",
       "  <thead>\n",
       "    <tr style=\"text-align: right;\">\n",
       "      <th></th>\n",
       "      <th>name</th>\n",
       "      <th>director</th>\n",
       "      <th>country</th>\n",
       "      <th>abstract_x</th>\n",
       "      <th>starring</th>\n",
       "      <th>studio</th>\n",
       "      <th>producer</th>\n",
       "      <th>music</th>\n",
       "      <th>new_starring</th>\n",
       "      <th>actorName_x</th>\n",
       "      <th>abstract</th>\n",
       "      <th>birthPlace_y</th>\n",
       "    </tr>\n",
       "  </thead>\n",
       "  <tbody>\n",
       "    <tr>\n",
       "      <th>0</th>\n",
       "      <td>Cars 2</td>\n",
       "      <td>John_Lasseter</td>\n",
       "      <td>United States</td>\n",
       "      <td>Cars 2 is a 2011 American computer-animated sp...</td>\n",
       "      <td>Eddie Izzard</td>\n",
       "      <td></td>\n",
       "      <td>Denise Ream</td>\n",
       "      <td>Michael_Giacchino</td>\n",
       "      <td>Eddie_Izzard</td>\n",
       "      <td>Eddie Izzard</td>\n",
       "      <td>Eddie Izzard (/ˈɪzɑːrd/; born 7 February 1962)...</td>\n",
       "      <td>Aden</td>\n",
       "    </tr>\n",
       "    <tr>\n",
       "      <th>1</th>\n",
       "      <td>Cars 2</td>\n",
       "      <td>John_Lasseter</td>\n",
       "      <td>United States</td>\n",
       "      <td>Cars 2 is a 2011 American computer-animated sp...</td>\n",
       "      <td>Eddie Izzard</td>\n",
       "      <td></td>\n",
       "      <td>Denise Ream</td>\n",
       "      <td>Michael_Giacchino</td>\n",
       "      <td>Eddie_Izzard</td>\n",
       "      <td>Eddie Izzard</td>\n",
       "      <td>Eddie Izzard (/ˈɪzɑːrd/; born 7 February 1962)...</td>\n",
       "      <td>Aden_Colony</td>\n",
       "    </tr>\n",
       "    <tr>\n",
       "      <th>2</th>\n",
       "      <td>Cars 2</td>\n",
       "      <td>John_Lasseter</td>\n",
       "      <td>United States</td>\n",
       "      <td>Cars 2 is a 2011 American computer-animated sp...</td>\n",
       "      <td>Eddie Izzard</td>\n",
       "      <td></td>\n",
       "      <td>Denise Ream</td>\n",
       "      <td>Michael_Giacchino</td>\n",
       "      <td>Eddie_Izzard</td>\n",
       "      <td>Eddie Izzard</td>\n",
       "      <td>Eddie Izzard (/ˈɪzɑːrd/; born 7 February 1962)...</td>\n",
       "      <td>Aden</td>\n",
       "    </tr>\n",
       "    <tr>\n",
       "      <th>3</th>\n",
       "      <td>Cars 2</td>\n",
       "      <td>John_Lasseter</td>\n",
       "      <td>United States</td>\n",
       "      <td>Cars 2 is a 2011 American computer-animated sp...</td>\n",
       "      <td>Eddie Izzard</td>\n",
       "      <td></td>\n",
       "      <td>Denise Ream</td>\n",
       "      <td>Michael_Giacchino</td>\n",
       "      <td>Eddie_Izzard</td>\n",
       "      <td>Eddie Izzard</td>\n",
       "      <td>Eddie Izzard (/ˈɪzɑːrd/; born 7 February 1962)...</td>\n",
       "      <td>Aden_Colony</td>\n",
       "    </tr>\n",
       "    <tr>\n",
       "      <th>4</th>\n",
       "      <td>Cars 2</td>\n",
       "      <td>John_Lasseter</td>\n",
       "      <td>United States</td>\n",
       "      <td>Cars 2 is a 2011 American computer-animated sp...</td>\n",
       "      <td>Eddie Izzard</td>\n",
       "      <td></td>\n",
       "      <td>Denise Ream</td>\n",
       "      <td>Michael_Giacchino</td>\n",
       "      <td>Eddie_Izzard</td>\n",
       "      <td>Eddie Izzard</td>\n",
       "      <td>Eddie Izzard (/ˈɪzɑːrd/; born 7 February 1962)...</td>\n",
       "      <td>Aden</td>\n",
       "    </tr>\n",
       "    <tr>\n",
       "      <th>...</th>\n",
       "      <td>...</td>\n",
       "      <td>...</td>\n",
       "      <td>...</td>\n",
       "      <td>...</td>\n",
       "      <td>...</td>\n",
       "      <td>...</td>\n",
       "      <td>...</td>\n",
       "      <td>...</td>\n",
       "      <td>...</td>\n",
       "      <td>...</td>\n",
       "      <td>...</td>\n",
       "      <td>...</td>\n",
       "    </tr>\n",
       "    <tr>\n",
       "      <th>151</th>\n",
       "      <td>The Good Dinosaur</td>\n",
       "      <td>Peter_Sohn</td>\n",
       "      <td>United States</td>\n",
       "      <td>The Good Dinosaur is a 2015 American computer-...</td>\n",
       "      <td>Frances McDormand</td>\n",
       "      <td>Warner Bros. Eastwood Scoring Stage in Burbank...</td>\n",
       "      <td>Chris Montan</td>\n",
       "      <td>Jeff Danna</td>\n",
       "      <td>Frances_McDormand</td>\n",
       "      <td>Frances McDormand</td>\n",
       "      <td>Frances Louise McDormand (born Cynthia Ann Smi...</td>\n",
       "      <td>Gibson City, Illinois, U.S.</td>\n",
       "    </tr>\n",
       "    <tr>\n",
       "      <th>152</th>\n",
       "      <td>The Good Dinosaur</td>\n",
       "      <td>Peter_Sohn</td>\n",
       "      <td>United States</td>\n",
       "      <td>The Good Dinosaur is a 2015 American computer-...</td>\n",
       "      <td>Steve Zahn</td>\n",
       "      <td>Warner Bros. Eastwood Scoring Stage in Burbank...</td>\n",
       "      <td>Chris Montan</td>\n",
       "      <td>Jeff Danna</td>\n",
       "      <td>Steve_Zahn</td>\n",
       "      <td>Steve Zahn</td>\n",
       "      <td>Steven James Zahn (/zɑːn/; born November 13, 1...</td>\n",
       "      <td>Marshall, Minnesota, U.S.</td>\n",
       "    </tr>\n",
       "    <tr>\n",
       "      <th>153</th>\n",
       "      <td>The Good Dinosaur</td>\n",
       "      <td>Peter_Sohn</td>\n",
       "      <td>United States</td>\n",
       "      <td>The Good Dinosaur is a 2015 American computer-...</td>\n",
       "      <td>A. J. Buckley</td>\n",
       "      <td>Warner Bros. Eastwood Scoring Stage in Burbank...</td>\n",
       "      <td>Chris Montan</td>\n",
       "      <td>Jeff Danna</td>\n",
       "      <td>A._J._Buckley</td>\n",
       "      <td>A. J. Buckley</td>\n",
       "      <td>Alan John \"A. J.\" Buckley (born February 9, 19...</td>\n",
       "      <td>Dublin, Ireland</td>\n",
       "    </tr>\n",
       "    <tr>\n",
       "      <th>154</th>\n",
       "      <td>The Good Dinosaur</td>\n",
       "      <td>Peter_Sohn</td>\n",
       "      <td>United States</td>\n",
       "      <td>The Good Dinosaur is a 2015 American computer-...</td>\n",
       "      <td>Jeffrey Wright</td>\n",
       "      <td>Warner Bros. Eastwood Scoring Stage in Burbank...</td>\n",
       "      <td>Chris Montan</td>\n",
       "      <td>Jeff Danna</td>\n",
       "      <td>Jeffrey_Wright</td>\n",
       "      <td>Jeffrey Wright</td>\n",
       "      <td>Jeffrey Wright (born December 7, 1965) is an A...</td>\n",
       "      <td>Washington, D.C., U.S.</td>\n",
       "    </tr>\n",
       "    <tr>\n",
       "      <th>155</th>\n",
       "      <td>The Good Dinosaur</td>\n",
       "      <td>Peter_Sohn</td>\n",
       "      <td>United States</td>\n",
       "      <td>The Good Dinosaur is a 2015 American computer-...</td>\n",
       "      <td>Raymond Ochoa</td>\n",
       "      <td>Warner Bros. Eastwood Scoring Stage in Burbank...</td>\n",
       "      <td>Chris Montan</td>\n",
       "      <td>Jeff Danna</td>\n",
       "      <td>Raymond_Ochoa</td>\n",
       "      <td>Raymond Ochoa</td>\n",
       "      <td>Raymond Ochoa (born October 12, 2001) is an Am...</td>\n",
       "      <td>San Diego, California, U.S.</td>\n",
       "    </tr>\n",
       "  </tbody>\n",
       "</table>\n",
       "<p>156 rows × 12 columns</p>\n",
       "</div>"
      ],
      "text/plain": [
       "                  name       director        country  \\\n",
       "0               Cars 2  John_Lasseter  United States   \n",
       "1               Cars 2  John_Lasseter  United States   \n",
       "2               Cars 2  John_Lasseter  United States   \n",
       "3               Cars 2  John_Lasseter  United States   \n",
       "4               Cars 2  John_Lasseter  United States   \n",
       "..                 ...            ...            ...   \n",
       "151  The Good Dinosaur     Peter_Sohn  United States   \n",
       "152  The Good Dinosaur     Peter_Sohn  United States   \n",
       "153  The Good Dinosaur     Peter_Sohn  United States   \n",
       "154  The Good Dinosaur     Peter_Sohn  United States   \n",
       "155  The Good Dinosaur     Peter_Sohn  United States   \n",
       "\n",
       "                                            abstract_x           starring  \\\n",
       "0    Cars 2 is a 2011 American computer-animated sp...       Eddie Izzard   \n",
       "1    Cars 2 is a 2011 American computer-animated sp...       Eddie Izzard   \n",
       "2    Cars 2 is a 2011 American computer-animated sp...       Eddie Izzard   \n",
       "3    Cars 2 is a 2011 American computer-animated sp...       Eddie Izzard   \n",
       "4    Cars 2 is a 2011 American computer-animated sp...       Eddie Izzard   \n",
       "..                                                 ...                ...   \n",
       "151  The Good Dinosaur is a 2015 American computer-...  Frances McDormand   \n",
       "152  The Good Dinosaur is a 2015 American computer-...         Steve Zahn   \n",
       "153  The Good Dinosaur is a 2015 American computer-...      A. J. Buckley   \n",
       "154  The Good Dinosaur is a 2015 American computer-...     Jeffrey Wright   \n",
       "155  The Good Dinosaur is a 2015 American computer-...      Raymond Ochoa   \n",
       "\n",
       "                                                studio      producer  \\\n",
       "0                                                        Denise Ream   \n",
       "1                                                        Denise Ream   \n",
       "2                                                        Denise Ream   \n",
       "3                                                        Denise Ream   \n",
       "4                                                        Denise Ream   \n",
       "..                                                 ...           ...   \n",
       "151  Warner Bros. Eastwood Scoring Stage in Burbank...  Chris Montan   \n",
       "152  Warner Bros. Eastwood Scoring Stage in Burbank...  Chris Montan   \n",
       "153  Warner Bros. Eastwood Scoring Stage in Burbank...  Chris Montan   \n",
       "154  Warner Bros. Eastwood Scoring Stage in Burbank...  Chris Montan   \n",
       "155  Warner Bros. Eastwood Scoring Stage in Burbank...  Chris Montan   \n",
       "\n",
       "                 music       new_starring        actorName_x  \\\n",
       "0    Michael_Giacchino       Eddie_Izzard       Eddie Izzard   \n",
       "1    Michael_Giacchino       Eddie_Izzard       Eddie Izzard   \n",
       "2    Michael_Giacchino       Eddie_Izzard       Eddie Izzard   \n",
       "3    Michael_Giacchino       Eddie_Izzard       Eddie Izzard   \n",
       "4    Michael_Giacchino       Eddie_Izzard       Eddie Izzard   \n",
       "..                 ...                ...                ...   \n",
       "151         Jeff Danna  Frances_McDormand  Frances McDormand   \n",
       "152         Jeff Danna         Steve_Zahn         Steve Zahn   \n",
       "153         Jeff Danna      A._J._Buckley      A. J. Buckley   \n",
       "154         Jeff Danna     Jeffrey_Wright     Jeffrey Wright   \n",
       "155         Jeff Danna      Raymond_Ochoa      Raymond Ochoa   \n",
       "\n",
       "                                              abstract  \\\n",
       "0    Eddie Izzard (/ˈɪzɑːrd/; born 7 February 1962)...   \n",
       "1    Eddie Izzard (/ˈɪzɑːrd/; born 7 February 1962)...   \n",
       "2    Eddie Izzard (/ˈɪzɑːrd/; born 7 February 1962)...   \n",
       "3    Eddie Izzard (/ˈɪzɑːrd/; born 7 February 1962)...   \n",
       "4    Eddie Izzard (/ˈɪzɑːrd/; born 7 February 1962)...   \n",
       "..                                                 ...   \n",
       "151  Frances Louise McDormand (born Cynthia Ann Smi...   \n",
       "152  Steven James Zahn (/zɑːn/; born November 13, 1...   \n",
       "153  Alan John \"A. J.\" Buckley (born February 9, 19...   \n",
       "154  Jeffrey Wright (born December 7, 1965) is an A...   \n",
       "155  Raymond Ochoa (born October 12, 2001) is an Am...   \n",
       "\n",
       "                    birthPlace_y  \n",
       "0                           Aden  \n",
       "1                    Aden_Colony  \n",
       "2                           Aden  \n",
       "3                    Aden_Colony  \n",
       "4                           Aden  \n",
       "..                           ...  \n",
       "151  Gibson City, Illinois, U.S.  \n",
       "152    Marshall, Minnesota, U.S.  \n",
       "153              Dublin, Ireland  \n",
       "154       Washington, D.C., U.S.  \n",
       "155  San Diego, California, U.S.  \n",
       "\n",
       "[156 rows x 12 columns]"
      ]
     },
     "execution_count": 45,
     "metadata": {},
     "output_type": "execute_result"
    }
   ],
   "source": [
    "dataframe.drop(dataframe.columns[[10, 11, 12, 13, 14, 15]], axis=1) "
   ]
  },
  {
   "cell_type": "code",
   "execution_count": null,
   "id": "f1465790",
   "metadata": {},
   "outputs": [],
   "source": [
    "dataframe.head(5)"
   ]
  },
  {
   "cell_type": "markdown",
   "id": "a6e10195",
   "metadata": {},
   "source": [
    "## Relación Actor - Película - País de Origen - Estudio - Productor - Productor Musical"
   ]
  },
  {
   "cell_type": "code",
   "execution_count": null,
   "id": "c1d7dc3b",
   "metadata": {},
   "outputs": [],
   "source": [
    "def grafo(df):\n",
    "    G = nx.Graph()\n",
    "\n",
    "    for a in df.itertuples():\n",
    "        if a.starring != \"\":\n",
    "            G.add_node(a.starring, size=\"20\",labelHighlightBold=True)\n",
    "            G.add_edge(a.starring, a.name)\n",
    "            G.add_edge(a.name, a.country)\n",
    "            G.add_edge(a.name, a.studio)\n",
    "            G.add_edge(a.name, a.producer)\n",
    "            G.add_edge(a.name, a.music)\n",
    "\n",
    "    \n",
    "    net = Network(notebook=True,directed=True)\n",
    "\n",
    "    net.from_nx(G)\n",
    "    #net.show_buttons()\n",
    "    net.repulsion(node_distance=100, spring_length=100,central_gravity=0.5)\n",
    "    return net.show(\"example.html\")"
   ]
  }
 ],
 "metadata": {
  "kernelspec": {
   "display_name": "Python 3 (ipykernel)",
   "language": "python",
   "name": "python3"
  },
  "language_info": {
   "codemirror_mode": {
    "name": "ipython",
    "version": 3
   },
   "file_extension": ".py",
   "mimetype": "text/x-python",
   "name": "python",
   "nbconvert_exporter": "python",
   "pygments_lexer": "ipython3",
   "version": "3.10.7"
  }
 },
 "nbformat": 4,
 "nbformat_minor": 5
}
