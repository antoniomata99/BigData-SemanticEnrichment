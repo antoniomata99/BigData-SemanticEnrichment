{
 "cells": [
  {
   "cell_type": "markdown",
   "id": "1b339db6",
   "metadata": {},
   "source": [
    "# Instalando Dependecias"
   ]
  },
  {
   "cell_type": "code",
   "execution_count": 3,
   "id": "7ba55e15",
   "metadata": {},
   "outputs": [
    {
     "name": "stdout",
     "output_type": "stream",
     "text": [
      "Requirement already satisfied: rdflib in /home/amata/jupyter_notebook/jupynotebook_env/lib/python3.10/site-packages (6.2.0)\n",
      "Requirement already satisfied: isodate in /home/amata/jupyter_notebook/jupynotebook_env/lib/python3.10/site-packages (from rdflib) (0.6.1)\n",
      "Requirement already satisfied: setuptools in /home/amata/jupyter_notebook/jupynotebook_env/lib/python3.10/site-packages (from rdflib) (65.3.0)\n",
      "Requirement already satisfied: pyparsing in /home/amata/jupyter_notebook/jupynotebook_env/lib/python3.10/site-packages (from rdflib) (3.0.9)\n",
      "Requirement already satisfied: six in /home/amata/jupyter_notebook/jupynotebook_env/lib/python3.10/site-packages (from isodate->rdflib) (1.16.0)\n",
      "Note: you may need to restart the kernel to use updated packages.\n"
     ]
    }
   ],
   "source": [
    "pip install rdflib"
   ]
  },
  {
   "cell_type": "code",
   "execution_count": 4,
   "id": "ae50235c",
   "metadata": {},
   "outputs": [
    {
     "name": "stdout",
     "output_type": "stream",
     "text": [
      "Requirement already satisfied: pandas in /home/amata/jupyter_notebook/jupynotebook_env/lib64/python3.10/site-packages (1.5.0)\n",
      "Requirement already satisfied: python-dateutil>=2.8.1 in /home/amata/jupyter_notebook/jupynotebook_env/lib/python3.10/site-packages (from pandas) (2.8.2)\n",
      "Requirement already satisfied: numpy>=1.21.0 in /home/amata/jupyter_notebook/jupynotebook_env/lib64/python3.10/site-packages (from pandas) (1.23.3)\n",
      "Requirement already satisfied: pytz>=2020.1 in /home/amata/jupyter_notebook/jupynotebook_env/lib/python3.10/site-packages (from pandas) (2022.2.1)\n",
      "Requirement already satisfied: six>=1.5 in /home/amata/jupyter_notebook/jupynotebook_env/lib/python3.10/site-packages (from python-dateutil>=2.8.1->pandas) (1.16.0)\n",
      "Note: you may need to restart the kernel to use updated packages.\n"
     ]
    }
   ],
   "source": [
    "pip install pandas"
   ]
  },
  {
   "cell_type": "code",
   "execution_count": 5,
   "id": "0719a3e9",
   "metadata": {},
   "outputs": [
    {
     "name": "stdout",
     "output_type": "stream",
     "text": [
      "Requirement already satisfied: SPARQLWrapper in /home/amata/jupyter_notebook/jupynotebook_env/lib/python3.10/site-packages (2.0.0)\n",
      "Requirement already satisfied: rdflib>=6.1.1 in /home/amata/jupyter_notebook/jupynotebook_env/lib/python3.10/site-packages (from SPARQLWrapper) (6.2.0)\n",
      "Requirement already satisfied: setuptools in /home/amata/jupyter_notebook/jupynotebook_env/lib/python3.10/site-packages (from rdflib>=6.1.1->SPARQLWrapper) (65.3.0)\n",
      "Requirement already satisfied: pyparsing in /home/amata/jupyter_notebook/jupynotebook_env/lib/python3.10/site-packages (from rdflib>=6.1.1->SPARQLWrapper) (3.0.9)\n",
      "Requirement already satisfied: isodate in /home/amata/jupyter_notebook/jupynotebook_env/lib/python3.10/site-packages (from rdflib>=6.1.1->SPARQLWrapper) (0.6.1)\n",
      "Requirement already satisfied: six in /home/amata/jupyter_notebook/jupynotebook_env/lib/python3.10/site-packages (from isodate->rdflib>=6.1.1->SPARQLWrapper) (1.16.0)\n",
      "Note: you may need to restart the kernel to use updated packages.\n"
     ]
    }
   ],
   "source": [
    "pip install SPARQLWrapper"
   ]
  },
  {
   "cell_type": "code",
   "execution_count": 6,
   "id": "7bebd79c",
   "metadata": {},
   "outputs": [
    {
     "name": "stdout",
     "output_type": "stream",
     "text": [
      "Requirement already satisfied: pyvis in /home/amata/jupyter_notebook/jupynotebook_env/lib/python3.10/site-packages (0.2.1)\n",
      "Requirement already satisfied: jsonpickle>=1.4.1 in /home/amata/jupyter_notebook/jupynotebook_env/lib/python3.10/site-packages (from pyvis) (2.2.0)\n",
      "Requirement already satisfied: jinja2>=2.9.6 in /home/amata/jupyter_notebook/jupynotebook_env/lib/python3.10/site-packages (from pyvis) (3.1.2)\n",
      "Requirement already satisfied: ipython>=5.3.0 in /home/amata/jupyter_notebook/jupynotebook_env/lib/python3.10/site-packages (from pyvis) (8.5.0)\n",
      "Requirement already satisfied: networkx>=1.11 in /home/amata/jupyter_notebook/jupynotebook_env/lib/python3.10/site-packages (from pyvis) (2.8.6)\n",
      "Requirement already satisfied: pexpect>4.3 in /home/amata/jupyter_notebook/jupynotebook_env/lib/python3.10/site-packages (from ipython>=5.3.0->pyvis) (4.8.0)\n",
      "Requirement already satisfied: jedi>=0.16 in /home/amata/jupyter_notebook/jupynotebook_env/lib/python3.10/site-packages (from ipython>=5.3.0->pyvis) (0.18.1)\n",
      "Requirement already satisfied: prompt-toolkit<3.1.0,>3.0.1 in /home/amata/jupyter_notebook/jupynotebook_env/lib/python3.10/site-packages (from ipython>=5.3.0->pyvis) (3.0.31)\n",
      "Requirement already satisfied: decorator in /home/amata/jupyter_notebook/jupynotebook_env/lib/python3.10/site-packages (from ipython>=5.3.0->pyvis) (5.1.1)\n",
      "Requirement already satisfied: traitlets>=5 in /home/amata/jupyter_notebook/jupynotebook_env/lib/python3.10/site-packages (from ipython>=5.3.0->pyvis) (5.4.0)\n",
      "Requirement already satisfied: backcall in /home/amata/jupyter_notebook/jupynotebook_env/lib/python3.10/site-packages (from ipython>=5.3.0->pyvis) (0.2.0)\n",
      "Requirement already satisfied: pygments>=2.4.0 in /home/amata/jupyter_notebook/jupynotebook_env/lib/python3.10/site-packages (from ipython>=5.3.0->pyvis) (2.13.0)\n",
      "Requirement already satisfied: matplotlib-inline in /home/amata/jupyter_notebook/jupynotebook_env/lib/python3.10/site-packages (from ipython>=5.3.0->pyvis) (0.1.6)\n",
      "Requirement already satisfied: stack-data in /home/amata/jupyter_notebook/jupynotebook_env/lib/python3.10/site-packages (from ipython>=5.3.0->pyvis) (0.5.0)\n",
      "Requirement already satisfied: pickleshare in /home/amata/jupyter_notebook/jupynotebook_env/lib/python3.10/site-packages (from ipython>=5.3.0->pyvis) (0.7.5)\n",
      "Requirement already satisfied: MarkupSafe>=2.0 in /home/amata/jupyter_notebook/jupynotebook_env/lib64/python3.10/site-packages (from jinja2>=2.9.6->pyvis) (2.1.1)\n",
      "Requirement already satisfied: parso<0.9.0,>=0.8.0 in /home/amata/jupyter_notebook/jupynotebook_env/lib/python3.10/site-packages (from jedi>=0.16->ipython>=5.3.0->pyvis) (0.8.3)\n",
      "Requirement already satisfied: ptyprocess>=0.5 in /home/amata/jupyter_notebook/jupynotebook_env/lib/python3.10/site-packages (from pexpect>4.3->ipython>=5.3.0->pyvis) (0.7.0)\n",
      "Requirement already satisfied: wcwidth in /home/amata/jupyter_notebook/jupynotebook_env/lib/python3.10/site-packages (from prompt-toolkit<3.1.0,>3.0.1->ipython>=5.3.0->pyvis) (0.2.5)\n",
      "Requirement already satisfied: pure-eval in /home/amata/jupyter_notebook/jupynotebook_env/lib/python3.10/site-packages (from stack-data->ipython>=5.3.0->pyvis) (0.2.2)\n",
      "Requirement already satisfied: asttokens in /home/amata/jupyter_notebook/jupynotebook_env/lib/python3.10/site-packages (from stack-data->ipython>=5.3.0->pyvis) (2.0.8)\n",
      "Requirement already satisfied: executing in /home/amata/jupyter_notebook/jupynotebook_env/lib/python3.10/site-packages (from stack-data->ipython>=5.3.0->pyvis) (1.0.0)\n",
      "Requirement already satisfied: six in /home/amata/jupyter_notebook/jupynotebook_env/lib/python3.10/site-packages (from asttokens->stack-data->ipython>=5.3.0->pyvis) (1.16.0)\n",
      "Note: you may need to restart the kernel to use updated packages.\n"
     ]
    }
   ],
   "source": [
    "pip install pyvis"
   ]
  },
  {
   "cell_type": "markdown",
   "id": "7850b82e",
   "metadata": {},
   "source": [
    "# Importaciones"
   ]
  },
  {
   "cell_type": "code",
   "execution_count": 5,
   "id": "0a99d8f7",
   "metadata": {},
   "outputs": [],
   "source": [
    "from rdflib import Graph\n",
    "from SPARQLWrapper import SPARQLWrapper, JSON, N3\n",
    "from pprint import pprint\n",
    "import pandas as pd"
   ]
  },
  {
   "cell_type": "code",
   "execution_count": 6,
   "id": "835558df",
   "metadata": {},
   "outputs": [],
   "source": [
    "import pyvis\n",
    "from pyvis.network import Network\n",
    "import networkx as nx\n",
    "import json"
   ]
  },
  {
   "cell_type": "markdown",
   "id": "237f437f",
   "metadata": {},
   "source": [
    "# Desarrollo"
   ]
  },
  {
   "cell_type": "markdown",
   "id": "ca341b41",
   "metadata": {},
   "source": [
    "## 1. Filtrando los datos de la película (usando SPARQL)"
   ]
  },
  {
   "cell_type": "code",
   "execution_count": 49,
   "id": "3c47b73b",
   "metadata": {},
   "outputs": [],
   "source": [
    "sparql = SPARQLWrapper('https://dbpedia.org/sparql')\n",
    "def detallePelicula(titulo):\n",
    "    sparql.setQuery('''\n",
    "        SELECT ?name ?director ?country ?starring ?abstract\n",
    "        WHERE { dbr:'''+titulo+''' dbp:name ?name .\n",
    "                dbr:'''+titulo+''' dbo:director ?director .\n",
    "                dbr:'''+titulo+''' dbp:country ?country .\n",
    "                dbr:'''+titulo+''' dbp:starring ?starring .\n",
    "                dbr:'''+titulo+''' dbo:abstract ?abstract .\n",
    "\n",
    "                FILTER (lang(?abstract) = 'en')\n",
    "        }''')\n",
    "    sparql.setReturnFormat(JSON)\n",
    "    qres = sparql.query().convert()\n",
    "    \n",
    "    diccionarios = []\n",
    "    for res in qres[\"results\"][\"bindings\"]:\n",
    "        dic ={\n",
    "            \"name\":res[\"name\"][\"value\"],\n",
    "            \"director\":res[\"director\"][\"value\"].split(\"/\")[-1],\n",
    "            \"country\":res[\"country\"][\"value\"],\n",
    "            \"abstract\":res[\"abstract\"][\"value\"],\n",
    "            \"starring\":res[\"starring\"][\"value\"].split(\"/\")[-1]\n",
    "        }\n",
    "        diccionarios.append(dic)\n",
    "    print(len(diccionarios))\n",
    "    \n",
    "    dics_string = json.dumps(diccionarios)  \n",
    "    a_json = json.loads(dics_string)\n",
    "    dataframe = pd.DataFrame.from_dict(a_json)\n",
    "    dataframe.drop_duplicates()\n",
    "    \n",
    "    return dataframe"
   ]
  },
  {
   "cell_type": "code",
   "execution_count": 70,
   "id": "79116b93",
   "metadata": {},
   "outputs": [
    {
     "name": "stdout",
     "output_type": "stream",
     "text": [
      "12\n"
     ]
    },
    {
     "data": {
      "text/html": [
       "<div>\n",
       "<style scoped>\n",
       "    .dataframe tbody tr th:only-of-type {\n",
       "        vertical-align: middle;\n",
       "    }\n",
       "\n",
       "    .dataframe tbody tr th {\n",
       "        vertical-align: top;\n",
       "    }\n",
       "\n",
       "    .dataframe thead th {\n",
       "        text-align: right;\n",
       "    }\n",
       "</style>\n",
       "<table border=\"1\" class=\"dataframe\">\n",
       "  <thead>\n",
       "    <tr style=\"text-align: right;\">\n",
       "      <th></th>\n",
       "      <th>name</th>\n",
       "      <th>director</th>\n",
       "      <th>country</th>\n",
       "      <th>abstract</th>\n",
       "      <th>starring</th>\n",
       "    </tr>\n",
       "  </thead>\n",
       "  <tbody>\n",
       "    <tr>\n",
       "      <th>0</th>\n",
       "      <td>Toy Story 3</td>\n",
       "      <td>Lee_Unkrich</td>\n",
       "      <td>United States</td>\n",
       "      <td>Toy Story 3 is a 2010 American computer-animat...</td>\n",
       "      <td>Tom Hanks</td>\n",
       "    </tr>\n",
       "    <tr>\n",
       "      <th>1</th>\n",
       "      <td>Toy Story 3</td>\n",
       "      <td>Lee_Unkrich</td>\n",
       "      <td>United States</td>\n",
       "      <td>Toy Story 3 is a 2010 American computer-animat...</td>\n",
       "      <td></td>\n",
       "    </tr>\n",
       "    <tr>\n",
       "      <th>2</th>\n",
       "      <td>Toy Story 3</td>\n",
       "      <td>Lee_Unkrich</td>\n",
       "      <td>United States</td>\n",
       "      <td>Toy Story 3 is a 2010 American computer-animat...</td>\n",
       "      <td>John Morris</td>\n",
       "    </tr>\n",
       "    <tr>\n",
       "      <th>3</th>\n",
       "      <td>Toy Story 3</td>\n",
       "      <td>Lee_Unkrich</td>\n",
       "      <td>United States</td>\n",
       "      <td>Toy Story 3 is a 2010 American computer-animat...</td>\n",
       "      <td>Ned Beatty</td>\n",
       "    </tr>\n",
       "    <tr>\n",
       "      <th>4</th>\n",
       "      <td>Toy Story 3</td>\n",
       "      <td>Lee_Unkrich</td>\n",
       "      <td>United States</td>\n",
       "      <td>Toy Story 3 is a 2010 American computer-animat...</td>\n",
       "      <td>Tim Allen</td>\n",
       "    </tr>\n",
       "    <tr>\n",
       "      <th>5</th>\n",
       "      <td>Toy Story 3</td>\n",
       "      <td>Lee_Unkrich</td>\n",
       "      <td>United States</td>\n",
       "      <td>Toy Story 3 is a 2010 American computer-animat...</td>\n",
       "      <td>Wallace Shawn</td>\n",
       "    </tr>\n",
       "    <tr>\n",
       "      <th>6</th>\n",
       "      <td>Toy Story 3</td>\n",
       "      <td>Lee_Unkrich</td>\n",
       "      <td>United States</td>\n",
       "      <td>Toy Story 3 is a 2010 American computer-animat...</td>\n",
       "      <td>Joan Cusack</td>\n",
       "    </tr>\n",
       "    <tr>\n",
       "      <th>7</th>\n",
       "      <td>Toy Story 3</td>\n",
       "      <td>Lee_Unkrich</td>\n",
       "      <td>United States</td>\n",
       "      <td>Toy Story 3 is a 2010 American computer-animat...</td>\n",
       "      <td>Michael Keaton</td>\n",
       "    </tr>\n",
       "    <tr>\n",
       "      <th>8</th>\n",
       "      <td>Toy Story 3</td>\n",
       "      <td>Lee_Unkrich</td>\n",
       "      <td>United States</td>\n",
       "      <td>Toy Story 3 is a 2010 American computer-animat...</td>\n",
       "      <td>Jodi Benson</td>\n",
       "    </tr>\n",
       "    <tr>\n",
       "      <th>9</th>\n",
       "      <td>Toy Story 3</td>\n",
       "      <td>Lee_Unkrich</td>\n",
       "      <td>United States</td>\n",
       "      <td>Toy Story 3 is a 2010 American computer-animat...</td>\n",
       "      <td>Estelle Harris</td>\n",
       "    </tr>\n",
       "    <tr>\n",
       "      <th>10</th>\n",
       "      <td>Toy Story 3</td>\n",
       "      <td>Lee_Unkrich</td>\n",
       "      <td>United States</td>\n",
       "      <td>Toy Story 3 is a 2010 American computer-animat...</td>\n",
       "      <td>Don Rickles</td>\n",
       "    </tr>\n",
       "    <tr>\n",
       "      <th>11</th>\n",
       "      <td>Toy Story 3</td>\n",
       "      <td>Lee_Unkrich</td>\n",
       "      <td>United States</td>\n",
       "      <td>Toy Story 3 is a 2010 American computer-animat...</td>\n",
       "      <td>John Ratzenberger</td>\n",
       "    </tr>\n",
       "  </tbody>\n",
       "</table>\n",
       "</div>"
      ],
      "text/plain": [
       "           name     director        country  \\\n",
       "0   Toy Story 3  Lee_Unkrich  United States   \n",
       "1   Toy Story 3  Lee_Unkrich  United States   \n",
       "2   Toy Story 3  Lee_Unkrich  United States   \n",
       "3   Toy Story 3  Lee_Unkrich  United States   \n",
       "4   Toy Story 3  Lee_Unkrich  United States   \n",
       "5   Toy Story 3  Lee_Unkrich  United States   \n",
       "6   Toy Story 3  Lee_Unkrich  United States   \n",
       "7   Toy Story 3  Lee_Unkrich  United States   \n",
       "8   Toy Story 3  Lee_Unkrich  United States   \n",
       "9   Toy Story 3  Lee_Unkrich  United States   \n",
       "10  Toy Story 3  Lee_Unkrich  United States   \n",
       "11  Toy Story 3  Lee_Unkrich  United States   \n",
       "\n",
       "                                             abstract           starring  \n",
       "0   Toy Story 3 is a 2010 American computer-animat...          Tom Hanks  \n",
       "1   Toy Story 3 is a 2010 American computer-animat...                     \n",
       "2   Toy Story 3 is a 2010 American computer-animat...        John Morris  \n",
       "3   Toy Story 3 is a 2010 American computer-animat...         Ned Beatty  \n",
       "4   Toy Story 3 is a 2010 American computer-animat...          Tim Allen  \n",
       "5   Toy Story 3 is a 2010 American computer-animat...      Wallace Shawn  \n",
       "6   Toy Story 3 is a 2010 American computer-animat...        Joan Cusack  \n",
       "7   Toy Story 3 is a 2010 American computer-animat...     Michael Keaton  \n",
       "8   Toy Story 3 is a 2010 American computer-animat...        Jodi Benson  \n",
       "9   Toy Story 3 is a 2010 American computer-animat...     Estelle Harris  \n",
       "10  Toy Story 3 is a 2010 American computer-animat...        Don Rickles  \n",
       "11  Toy Story 3 is a 2010 American computer-animat...  John Ratzenberger  "
      ]
     },
     "execution_count": 70,
     "metadata": {},
     "output_type": "execute_result"
    }
   ],
   "source": [
    "detallePelicula('Toy_Story_3')"
   ]
  },
  {
   "cell_type": "markdown",
   "id": "a6e10195",
   "metadata": {},
   "source": [
    "## Relación Actor - Película"
   ]
  },
  {
   "cell_type": "code",
   "execution_count": 51,
   "id": "c1d7dc3b",
   "metadata": {},
   "outputs": [],
   "source": [
    "def grafo(df):\n",
    "    G = nx.Graph()\n",
    "\n",
    "    for a in df.itertuples():\n",
    "        if a.starring != \"\":\n",
    "            G.add_node(a.starring, size=\"20\",labelHighlightBold=True)\n",
    "            G.add_edge(a.starring, a.name)\n",
    "\n",
    "    \n",
    "    net = Network(notebook=True,directed=True)\n",
    "\n",
    "    net.from_nx(G)\n",
    "    #net.show_buttons()\n",
    "    net.repulsion(node_distance=150, spring_length=100,central_gravity=0.5)\n",
    "    return net.show(\"example.html\")"
   ]
  },
  {
   "cell_type": "code",
   "execution_count": 9,
   "id": "85d84014",
   "metadata": {},
   "outputs": [],
   "source": [
    "def nuevo(titulo):\n",
    "    dataframe = detallePelicula(titulo)\n",
    "    dataframe.reset_index()\n",
    "    dataframe.drop_duplicates()\n",
    "    return dataframe\n",
    "\n",
    "def enriquecer(dataframe,titulo):\n",
    "    df=dataframe.append(detallePelicula(titulo))\n",
    "    df.reset_index()\n",
    "    df.drop_duplicates()\n",
    "    return df"
   ]
  },
  {
   "cell_type": "code",
   "execution_count": 57,
   "id": "ba300a16",
   "metadata": {
    "scrolled": true
   },
   "outputs": [
    {
     "name": "stdout",
     "output_type": "stream",
     "text": [
      "12\n"
     ]
    },
    {
     "data": {
      "text/html": [
       "\n",
       "        <iframe\n",
       "            width=\"500px\"\n",
       "            height=\"500px\"\n",
       "            src=\"example.html\"\n",
       "            frameborder=\"0\"\n",
       "            allowfullscreen\n",
       "            \n",
       "        ></iframe>\n",
       "        "
      ],
      "text/plain": [
       "<IPython.lib.display.IFrame at 0x7f88100bb880>"
      ]
     },
     "execution_count": 57,
     "metadata": {},
     "output_type": "execute_result"
    }
   ],
   "source": [
    "dataframe = nuevo(\"Toy_Story_3\")\n",
    "grafo(dataframe)"
   ]
  },
  {
   "cell_type": "code",
   "execution_count": 58,
   "id": "12ad19eb",
   "metadata": {
    "scrolled": false
   },
   "outputs": [
    {
     "name": "stdout",
     "output_type": "stream",
     "text": [
      "6\n"
     ]
    },
    {
     "name": "stderr",
     "output_type": "stream",
     "text": [
      "/tmp/ipykernel_13349/3882681488.py:8: FutureWarning: The frame.append method is deprecated and will be removed from pandas in a future version. Use pandas.concat instead.\n",
      "  df=dataframe.append(detallePelicula(titulo))\n"
     ]
    },
    {
     "data": {
      "text/html": [
       "\n",
       "        <iframe\n",
       "            width=\"500px\"\n",
       "            height=\"500px\"\n",
       "            src=\"example.html\"\n",
       "            frameborder=\"0\"\n",
       "            allowfullscreen\n",
       "            \n",
       "        ></iframe>\n",
       "        "
      ],
      "text/plain": [
       "<IPython.lib.display.IFrame at 0x7f8810058dc0>"
      ]
     },
     "execution_count": 58,
     "metadata": {},
     "output_type": "execute_result"
    }
   ],
   "source": [
    "dataframe = enriquecer(dataframe,\"Forrest_Gump\")\n",
    "dataframe.head(100)\n",
    "grafo(dataframe)"
   ]
  },
  {
   "cell_type": "code",
   "execution_count": 59,
   "id": "9920fe56",
   "metadata": {},
   "outputs": [
    {
     "name": "stdout",
     "output_type": "stream",
     "text": [
      "5\n"
     ]
    },
    {
     "name": "stderr",
     "output_type": "stream",
     "text": [
      "/tmp/ipykernel_13349/3882681488.py:8: FutureWarning: The frame.append method is deprecated and will be removed from pandas in a future version. Use pandas.concat instead.\n",
      "  df=dataframe.append(detallePelicula(titulo))\n"
     ]
    },
    {
     "data": {
      "text/html": [
       "\n",
       "        <iframe\n",
       "            width=\"500px\"\n",
       "            height=\"500px\"\n",
       "            src=\"example.html\"\n",
       "            frameborder=\"0\"\n",
       "            allowfullscreen\n",
       "            \n",
       "        ></iframe>\n",
       "        "
      ],
      "text/plain": [
       "<IPython.lib.display.IFrame at 0x7f88100be440>"
      ]
     },
     "execution_count": 59,
     "metadata": {},
     "output_type": "execute_result"
    }
   ],
   "source": [
    "dataframe = enriquecer(dataframe,\"Wild_Hogs\")\n",
    "dataframe.head(100)\n",
    "grafo(dataframe)"
   ]
  },
  {
   "cell_type": "code",
   "execution_count": 60,
   "id": "3636f8b6",
   "metadata": {},
   "outputs": [
    {
     "name": "stdout",
     "output_type": "stream",
     "text": [
      "14\n"
     ]
    },
    {
     "name": "stderr",
     "output_type": "stream",
     "text": [
      "/tmp/ipykernel_13349/3882681488.py:8: FutureWarning: The frame.append method is deprecated and will be removed from pandas in a future version. Use pandas.concat instead.\n",
      "  df=dataframe.append(detallePelicula(titulo))\n"
     ]
    },
    {
     "data": {
      "text/html": [
       "\n",
       "        <iframe\n",
       "            width=\"500px\"\n",
       "            height=\"500px\"\n",
       "            src=\"example.html\"\n",
       "            frameborder=\"0\"\n",
       "            allowfullscreen\n",
       "            \n",
       "        ></iframe>\n",
       "        "
      ],
      "text/plain": [
       "<IPython.lib.display.IFrame at 0x7f8810020580>"
      ]
     },
     "execution_count": 60,
     "metadata": {},
     "output_type": "execute_result"
    }
   ],
   "source": [
    "dataframe = enriquecer(dataframe,\"Lucky_Numbers\")\n",
    "dataframe.head(100)\n",
    "grafo(dataframe)"
   ]
  },
  {
   "cell_type": "code",
   "execution_count": 61,
   "id": "db29b34b",
   "metadata": {},
   "outputs": [
    {
     "name": "stdout",
     "output_type": "stream",
     "text": [
      "0\n"
     ]
    },
    {
     "name": "stderr",
     "output_type": "stream",
     "text": [
      "/tmp/ipykernel_13349/3882681488.py:8: FutureWarning: The frame.append method is deprecated and will be removed from pandas in a future version. Use pandas.concat instead.\n",
      "  df=dataframe.append(detallePelicula(titulo))\n"
     ]
    },
    {
     "data": {
      "text/html": [
       "\n",
       "        <iframe\n",
       "            width=\"500px\"\n",
       "            height=\"500px\"\n",
       "            src=\"example.html\"\n",
       "            frameborder=\"0\"\n",
       "            allowfullscreen\n",
       "            \n",
       "        ></iframe>\n",
       "        "
      ],
      "text/plain": [
       "<IPython.lib.display.IFrame at 0x7f88100bd8a0>"
      ]
     },
     "execution_count": 61,
     "metadata": {},
     "output_type": "execute_result"
    }
   ],
   "source": [
    "dataframe = enriquecer(dataframe,\"Bolt\")\n",
    "dataframe.head(100)\n",
    "grafo(dataframe)"
   ]
  },
  {
   "cell_type": "markdown",
   "id": "7284fc08",
   "metadata": {},
   "source": [
    "# Videojuegos"
   ]
  },
  {
   "cell_type": "code",
   "execution_count": 88,
   "id": "d4cad105",
   "metadata": {},
   "outputs": [],
   "source": [
    "sparql = SPARQLWrapper('https://dbpedia.org/sparql')\n",
    "def detalleVideoJuego(titulo):\n",
    "    sparql.setQuery('''\n",
    "        SELECT ?name ?computingPlatform ?developer ?gameEngine ?genre ?abstract\n",
    "        WHERE { dbr:'''+titulo+''' foaf:name ?name .\n",
    "                dbr:'''+titulo+''' dbo:computingPlatform ?computingPlatform .\n",
    "                dbr:'''+titulo+''' dbo:developer ?developer .\n",
    "                dbr:'''+titulo+''' dbo:gameEngine ?gameEngine .\n",
    "                dbr:'''+titulo+''' dbo:genre ?genre .\n",
    "                dbr:'''+titulo+''' dbo:abstract ?abstract .\n",
    "\n",
    "                FILTER (lang(?abstract) = 'en')\n",
    "        }''')\n",
    "    sparql.setReturnFormat(JSON)\n",
    "    qres = sparql.query().convert()\n",
    "    \n",
    "    diccionarios = []\n",
    "    for res in qres[\"results\"][\"bindings\"]:\n",
    "        dic ={\n",
    "            \"name\":res[\"name\"][\"value\"],\n",
    "            \"computingPlatform\":res[\"computingPlatform\"][\"value\"].split(\"/\")[-1],\n",
    "            \"developer\":res[\"developer\"][\"value\"].split(\"/\")[-1],\n",
    "            \"gameEngine\":res[\"gameEngine\"][\"value\"].split(\"/\")[-1],\n",
    "            \"genre\":res[\"genre\"][\"value\"].split(\"/\")[-1],\n",
    "            \"abstract\":res[\"abstract\"][\"value\"].split(\"/\")[-1]\n",
    "        }\n",
    "        diccionarios.append(dic)\n",
    "    print(len(diccionarios))\n",
    "    \n",
    "    dics_string = json.dumps(diccionarios)  \n",
    "    a_json = json.loads(dics_string)\n",
    "    dataframe = pd.DataFrame.from_dict(a_json)\n",
    "    dataframe.drop_duplicates()\n",
    "    \n",
    "    return dataframe"
   ]
  },
  {
   "cell_type": "code",
   "execution_count": 89,
   "id": "20cc31ab",
   "metadata": {},
   "outputs": [
    {
     "name": "stdout",
     "output_type": "stream",
     "text": [
      "1\n"
     ]
    },
    {
     "data": {
      "text/html": [
       "<div>\n",
       "<style scoped>\n",
       "    .dataframe tbody tr th:only-of-type {\n",
       "        vertical-align: middle;\n",
       "    }\n",
       "\n",
       "    .dataframe tbody tr th {\n",
       "        vertical-align: top;\n",
       "    }\n",
       "\n",
       "    .dataframe thead th {\n",
       "        text-align: right;\n",
       "    }\n",
       "</style>\n",
       "<table border=\"1\" class=\"dataframe\">\n",
       "  <thead>\n",
       "    <tr style=\"text-align: right;\">\n",
       "      <th></th>\n",
       "      <th>name</th>\n",
       "      <th>computingPlatform</th>\n",
       "      <th>developer</th>\n",
       "      <th>gameEngine</th>\n",
       "      <th>genre</th>\n",
       "      <th>abstract</th>\n",
       "    </tr>\n",
       "  </thead>\n",
       "  <tbody>\n",
       "    <tr>\n",
       "      <th>0</th>\n",
       "      <td>Valorant</td>\n",
       "      <td>Microsoft_Windows</td>\n",
       "      <td>Riot_Games</td>\n",
       "      <td>Unreal_Engine</td>\n",
       "      <td>First-person_shooter</td>\n",
       "      <td>Valorant (stylized as VALORANT) is a free-to-p...</td>\n",
       "    </tr>\n",
       "  </tbody>\n",
       "</table>\n",
       "</div>"
      ],
      "text/plain": [
       "       name  computingPlatform   developer     gameEngine  \\\n",
       "0  Valorant  Microsoft_Windows  Riot_Games  Unreal_Engine   \n",
       "\n",
       "                  genre                                           abstract  \n",
       "0  First-person_shooter  Valorant (stylized as VALORANT) is a free-to-p...  "
      ]
     },
     "execution_count": 89,
     "metadata": {},
     "output_type": "execute_result"
    }
   ],
   "source": [
    "detalleVideoJuego('Valorant')"
   ]
  },
  {
   "cell_type": "code",
   "execution_count": 90,
   "id": "b7e032bf",
   "metadata": {
    "scrolled": true
   },
   "outputs": [
    {
     "name": "stdout",
     "output_type": "stream",
     "text": [
      "6\n"
     ]
    },
    {
     "data": {
      "text/html": [
       "<div>\n",
       "<style scoped>\n",
       "    .dataframe tbody tr th:only-of-type {\n",
       "        vertical-align: middle;\n",
       "    }\n",
       "\n",
       "    .dataframe tbody tr th {\n",
       "        vertical-align: top;\n",
       "    }\n",
       "\n",
       "    .dataframe thead th {\n",
       "        text-align: right;\n",
       "    }\n",
       "</style>\n",
       "<table border=\"1\" class=\"dataframe\">\n",
       "  <thead>\n",
       "    <tr style=\"text-align: right;\">\n",
       "      <th></th>\n",
       "      <th>name</th>\n",
       "      <th>computingPlatform</th>\n",
       "      <th>developer</th>\n",
       "      <th>gameEngine</th>\n",
       "      <th>genre</th>\n",
       "      <th>abstract</th>\n",
       "    </tr>\n",
       "  </thead>\n",
       "  <tbody>\n",
       "    <tr>\n",
       "      <th>0</th>\n",
       "      <td>Counter-Strike: Source</td>\n",
       "      <td>Linux</td>\n",
       "      <td>Turtle_Rock_Studios</td>\n",
       "      <td>Source_(game_engine)</td>\n",
       "      <td>First-person_shooter</td>\n",
       "      <td>Counter-Strike: Source is a first-person shoot...</td>\n",
       "    </tr>\n",
       "    <tr>\n",
       "      <th>1</th>\n",
       "      <td>Counter-Strike: Source</td>\n",
       "      <td>MacOS</td>\n",
       "      <td>Turtle_Rock_Studios</td>\n",
       "      <td>Source_(game_engine)</td>\n",
       "      <td>First-person_shooter</td>\n",
       "      <td>Counter-Strike: Source is a first-person shoot...</td>\n",
       "    </tr>\n",
       "    <tr>\n",
       "      <th>2</th>\n",
       "      <td>Counter-Strike: Source</td>\n",
       "      <td>Microsoft_Windows</td>\n",
       "      <td>Turtle_Rock_Studios</td>\n",
       "      <td>Source_(game_engine)</td>\n",
       "      <td>First-person_shooter</td>\n",
       "      <td>Counter-Strike: Source is a first-person shoot...</td>\n",
       "    </tr>\n",
       "    <tr>\n",
       "      <th>3</th>\n",
       "      <td>Counter-Strike: Source</td>\n",
       "      <td>Linux</td>\n",
       "      <td>Valve_Corporation</td>\n",
       "      <td>Source_(game_engine)</td>\n",
       "      <td>First-person_shooter</td>\n",
       "      <td>Counter-Strike: Source is a first-person shoot...</td>\n",
       "    </tr>\n",
       "    <tr>\n",
       "      <th>4</th>\n",
       "      <td>Counter-Strike: Source</td>\n",
       "      <td>MacOS</td>\n",
       "      <td>Valve_Corporation</td>\n",
       "      <td>Source_(game_engine)</td>\n",
       "      <td>First-person_shooter</td>\n",
       "      <td>Counter-Strike: Source is a first-person shoot...</td>\n",
       "    </tr>\n",
       "    <tr>\n",
       "      <th>5</th>\n",
       "      <td>Counter-Strike: Source</td>\n",
       "      <td>Microsoft_Windows</td>\n",
       "      <td>Valve_Corporation</td>\n",
       "      <td>Source_(game_engine)</td>\n",
       "      <td>First-person_shooter</td>\n",
       "      <td>Counter-Strike: Source is a first-person shoot...</td>\n",
       "    </tr>\n",
       "  </tbody>\n",
       "</table>\n",
       "</div>"
      ],
      "text/plain": [
       "                     name  computingPlatform            developer  \\\n",
       "0  Counter-Strike: Source              Linux  Turtle_Rock_Studios   \n",
       "1  Counter-Strike: Source              MacOS  Turtle_Rock_Studios   \n",
       "2  Counter-Strike: Source  Microsoft_Windows  Turtle_Rock_Studios   \n",
       "3  Counter-Strike: Source              Linux    Valve_Corporation   \n",
       "4  Counter-Strike: Source              MacOS    Valve_Corporation   \n",
       "5  Counter-Strike: Source  Microsoft_Windows    Valve_Corporation   \n",
       "\n",
       "             gameEngine                 genre  \\\n",
       "0  Source_(game_engine)  First-person_shooter   \n",
       "1  Source_(game_engine)  First-person_shooter   \n",
       "2  Source_(game_engine)  First-person_shooter   \n",
       "3  Source_(game_engine)  First-person_shooter   \n",
       "4  Source_(game_engine)  First-person_shooter   \n",
       "5  Source_(game_engine)  First-person_shooter   \n",
       "\n",
       "                                            abstract  \n",
       "0  Counter-Strike: Source is a first-person shoot...  \n",
       "1  Counter-Strike: Source is a first-person shoot...  \n",
       "2  Counter-Strike: Source is a first-person shoot...  \n",
       "3  Counter-Strike: Source is a first-person shoot...  \n",
       "4  Counter-Strike: Source is a first-person shoot...  \n",
       "5  Counter-Strike: Source is a first-person shoot...  "
      ]
     },
     "execution_count": 90,
     "metadata": {},
     "output_type": "execute_result"
    }
   ],
   "source": [
    "detalleVideoJuego('Counter-Strike:_Source')"
   ]
  },
  {
   "cell_type": "code",
   "execution_count": null,
   "id": "13e466ff",
   "metadata": {},
   "outputs": [],
   "source": []
  }
 ],
 "metadata": {
  "kernelspec": {
   "display_name": "Python 3 (ipykernel)",
   "language": "python",
   "name": "python3"
  },
  "language_info": {
   "codemirror_mode": {
    "name": "ipython",
    "version": 3
   },
   "file_extension": ".py",
   "mimetype": "text/x-python",
   "name": "python",
   "nbconvert_exporter": "python",
   "pygments_lexer": "ipython3",
   "version": "3.10.6"
  }
 },
 "nbformat": 4,
 "nbformat_minor": 5
}
