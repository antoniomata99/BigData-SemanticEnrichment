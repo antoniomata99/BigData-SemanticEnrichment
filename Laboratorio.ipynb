{
 "cells": [
  {
   "cell_type": "markdown",
   "id": "1b339db6",
   "metadata": {},
   "source": [
    "# Instalando Dependecias"
   ]
  },
  {
   "cell_type": "code",
   "execution_count": null,
   "id": "7ba55e15",
   "metadata": {},
   "outputs": [],
   "source": [
    "pip install rdflib"
   ]
  },
  {
   "cell_type": "code",
   "execution_count": null,
   "id": "ae50235c",
   "metadata": {},
   "outputs": [],
   "source": [
    "pip install pandas"
   ]
  },
  {
   "cell_type": "code",
   "execution_count": null,
   "id": "0719a3e9",
   "metadata": {},
   "outputs": [],
   "source": [
    "pip install SPARQLWrapper"
   ]
  },
  {
   "cell_type": "code",
   "execution_count": null,
   "id": "7bebd79c",
   "metadata": {},
   "outputs": [],
   "source": [
    "pip install pyvis"
   ]
  },
  {
   "cell_type": "markdown",
   "id": "7850b82e",
   "metadata": {},
   "source": [
    "# Importaciones"
   ]
  },
  {
   "cell_type": "code",
   "execution_count": null,
   "id": "0a99d8f7",
   "metadata": {},
   "outputs": [],
   "source": [
    "from rdflib import Graph\n",
    "from SPARQLWrapper import SPARQLWrapper, JSON, N3\n",
    "from pprint import pprint\n",
    "import pandas as pd\n",
    "import matplotlib.pyplot as plt"
   ]
  },
  {
   "cell_type": "code",
   "execution_count": null,
   "id": "835558df",
   "metadata": {},
   "outputs": [],
   "source": [
    "import pyvis\n",
    "from pyvis.network import Network\n",
    "import networkx as nx\n",
    "import json"
   ]
  },
  {
   "cell_type": "markdown",
   "id": "237f437f",
   "metadata": {},
   "source": [
    "# Desarrollo"
   ]
  },
  {
   "cell_type": "markdown",
   "id": "ca341b41",
   "metadata": {},
   "source": [
    "## 1. Filtrando los datos de la película (usando SPARQL)"
   ]
  },
  {
   "cell_type": "code",
   "execution_count": null,
   "id": "3c47b73b",
   "metadata": {},
   "outputs": [],
   "source": [
    "sparql = SPARQLWrapper('https://dbpedia.org/sparql')\n",
    "def detallePelicula(titulo):\n",
    "    sparql.setQuery('''\n",
    "        SELECT ?name ?director ?country ?starring ?abstract ?studio ?producer ?music\n",
    "        WHERE { dbr:'''+titulo+''' dbp:name ?name .\n",
    "                dbr:'''+titulo+''' dbo:director ?director .\n",
    "                dbr:'''+titulo+''' dbp:country ?country .\n",
    "                dbr:'''+titulo+''' dbp:starring ?starring .\n",
    "                dbr:'''+titulo+''' dbo:abstract ?abstract .\n",
    "                dbr:'''+titulo+''' dbp:studio ?studio .\n",
    "                dbr:'''+titulo+''' dbp:producer ?producer .\n",
    "                dbr:'''+titulo+''' dbp:music ?music .\n",
    "\n",
    "                FILTER (lang(?abstract) = 'en')\n",
    "        }''')\n",
    "    sparql.setReturnFormat(JSON)\n",
    "    qres = sparql.query().convert()\n",
    "    \n",
    "    diccionarios = []\n",
    "    for res in qres[\"results\"][\"bindings\"]:\n",
    "        dic ={\n",
    "            \"name\":res[\"name\"][\"value\"],\n",
    "            \"director\":res[\"director\"][\"value\"].split(\"/\")[-1],\n",
    "            \"country\":res[\"country\"][\"value\"],\n",
    "            \"abstract\":res[\"abstract\"][\"value\"],\n",
    "            \"starring\":res[\"starring\"][\"value\"].split(\"/\")[-1],\n",
    "            \"studio\":res[\"studio\"][\"value\"].split(\"/\")[-1],\n",
    "            \"producer\":res[\"producer\"][\"value\"].split(\"/\")[-1],\n",
    "            \"music\":res[\"music\"][\"value\"].split(\"/\")[-1],\n",
    "        }\n",
    "        diccionarios.append(dic)\n",
    "    print(len(diccionarios))\n",
    "    \n",
    "    dics_string = json.dumps(diccionarios)  \n",
    "    a_json = json.loads(dics_string)\n",
    "    dataframe = pd.DataFrame.from_dict(a_json)\n",
    "    dataframe.drop_duplicates()\n",
    "    \n",
    "    return dataframe"
   ]
  },
  {
   "cell_type": "code",
   "execution_count": null,
   "id": "85d84014",
   "metadata": {},
   "outputs": [],
   "source": [
    "def nuevo(titulo):\n",
    "    dataframe = detallePelicula(titulo)\n",
    "    dataframe.reset_index()\n",
    "    dataframe.drop_duplicates()\n",
    "    return dataframe\n",
    "\n",
    "def enriquecer(dataframe,titulo):\n",
    "    df=dataframe.append(detallePelicula(titulo))\n",
    "    df.reset_index()\n",
    "    df.drop_duplicates()\n",
    "    return df"
   ]
  },
  {
   "cell_type": "markdown",
   "id": "4f3e03f8",
   "metadata": {},
   "source": [
    "## 2. Filtrando los datos de los actores (usando SPARQL)"
   ]
  },
  {
   "cell_type": "code",
   "execution_count": null,
   "id": "565918c6",
   "metadata": {},
   "outputs": [],
   "source": [
    "sparql = SPARQLWrapper('https://dbpedia.org/sparql')\n",
    "def detalleActor(nombre):\n",
    "    sparql.setQuery('''\n",
    "        SELECT ?name ?birthDate ?birthPlace ?abstract\n",
    "        WHERE { \n",
    "                dbr:'''+nombre+''' dbp:name ?name .\n",
    "                dbr:'''+nombre+''' dbp:birthDate ?birthDate .\n",
    "                dbr:'''+nombre+''' dbp:birthPlace ?birthPlace .\n",
    "                dbr:'''+nombre+''' dbo:abstract ?abstract .\n",
    "\n",
    "                FILTER (lang(?abstract) = 'en')\n",
    "        }''')\n",
    "    sparql.setReturnFormat(JSON)\n",
    "    qres = sparql.query().convert()\n",
    "    \n",
    "    diccionarios = []\n",
    "    for res in qres[\"results\"][\"bindings\"]:\n",
    "        dic ={\n",
    "            \"name\":res[\"name\"][\"value\"].split(\"/\")[-1],\n",
    "            \"birthDate\":res[\"birthDate\"][\"value\"],\n",
    "            \"abstract\":res[\"abstract\"][\"value\"],\n",
    "            \"birthPlace\":res[\"birthPlace\"][\"value\"].split(\"/\")[-1],\n",
    "        }\n",
    "        diccionarios.append(dic)\n",
    "    print(len(diccionarios))\n",
    "    \n",
    "    dics_string = json.dumps(diccionarios)  \n",
    "    a_json = json.loads(dics_string)\n",
    "    dataframe = pd.DataFrame.from_dict(a_json)\n",
    "    dataframe.drop_duplicates()\n",
    "    \n",
    "    return dataframe"
   ]
  },
  {
   "cell_type": "code",
   "execution_count": null,
   "id": "dbd91125",
   "metadata": {},
   "outputs": [],
   "source": [
    "def nuevoActor(nombre):\n",
    "    dataframe = detalleActor(nombre)\n",
    "    dataframe.reset_index()\n",
    "    dataframe.drop_duplicates()\n",
    "    return dataframe\n",
    "\n",
    "def enriquecerActor(dataframe,nombre):\n",
    "    df=dataframe.append(detalleActor(nombre))\n",
    "    df.reset_index()\n",
    "    df.drop_duplicates()\n",
    "    return df"
   ]
  },
  {
   "cell_type": "markdown",
   "id": "57c96189",
   "metadata": {},
   "source": [
    "## 3. Método de Enriquecimiento Semántico"
   ]
  },
  {
   "cell_type": "markdown",
   "id": "10b62f96",
   "metadata": {},
   "source": [
    "### 3.1 Enriquecimiento Películas"
   ]
  },
  {
   "cell_type": "code",
   "execution_count": null,
   "id": "9b982dc0",
   "metadata": {},
   "outputs": [],
   "source": [
    "dataframe = nuevo (\"Cars_2\")"
   ]
  },
  {
   "cell_type": "code",
   "execution_count": null,
   "id": "2fb93d82",
   "metadata": {
    "scrolled": false
   },
   "outputs": [],
   "source": [
    "dataframe = enriquecer(dataframe,\"Toy_Story_3\")"
   ]
  },
  {
   "cell_type": "code",
   "execution_count": null,
   "id": "dfd0ea18",
   "metadata": {},
   "outputs": [],
   "source": [
    "dataframe = enriquecer(dataframe,\"The_Good_Dinosaur\")"
   ]
  },
  {
   "cell_type": "code",
   "execution_count": null,
   "id": "67700fce",
   "metadata": {},
   "outputs": [],
   "source": [
    "dataframe = enriquecer(dataframe,\"The_Lizzie_McGuire_Movie\")"
   ]
  },
  {
   "cell_type": "code",
   "execution_count": null,
   "id": "91787d5b",
   "metadata": {},
   "outputs": [],
   "source": [
    "dataframe = enriquecer(dataframe,\"Wild_Hogs\")"
   ]
  },
  {
   "cell_type": "code",
   "execution_count": null,
   "id": "f23c2c05",
   "metadata": {},
   "outputs": [],
   "source": [
    "dataframe = enriquecer(dataframe,\"Forrest_Gump\")"
   ]
  },
  {
   "cell_type": "code",
   "execution_count": null,
   "id": "dc47857d",
   "metadata": {},
   "outputs": [],
   "source": [
    "dataframe.head(50)"
   ]
  },
  {
   "cell_type": "markdown",
   "id": "bf6ecad8",
   "metadata": {},
   "source": [
    "### 3.2 Realizando búsqueda actores de las películas"
   ]
  },
  {
   "cell_type": "code",
   "execution_count": null,
   "id": "f9eb1ff4",
   "metadata": {
    "scrolled": true
   },
   "outputs": [],
   "source": [
    "dataframe['only_starring'] = dataframe['starring'].str.replace(' ', '_')\n",
    "dataframe.head(50)"
   ]
  },
  {
   "cell_type": "code",
   "execution_count": null,
   "id": "64ee87fb",
   "metadata": {},
   "outputs": [],
   "source": [
    "dataframe.iloc[:1 , :]['only_starring'][0]"
   ]
  },
  {
   "cell_type": "code",
   "execution_count": null,
   "id": "e6ab1033",
   "metadata": {},
   "outputs": [],
   "source": [
    "df_actor = nuevoActor( dataframe.iloc[:1 , :]['only_starring'][0] )"
   ]
  },
  {
   "cell_type": "code",
   "execution_count": null,
   "id": "66facf4a",
   "metadata": {},
   "outputs": [],
   "source": [
    "for actor in dataframe.iloc[1: , :]['only_starring'].unique():\n",
    "    try:\n",
    "        df_actor = enriquecerActor(df_actor, actor)\n",
    "    except:  \n",
    "        print(actor)"
   ]
  },
  {
   "cell_type": "code",
   "execution_count": null,
   "id": "cfcf18aa",
   "metadata": {},
   "outputs": [],
   "source": [
    "dataframe.iloc[1: , :]['only_starring'].unique()"
   ]
  },
  {
   "cell_type": "code",
   "execution_count": null,
   "id": "38032dc2",
   "metadata": {},
   "outputs": [],
   "source": [
    "df_actor.rename( columns={'name':'actorName'}, inplace=True )"
   ]
  },
  {
   "cell_type": "code",
   "execution_count": null,
   "id": "eeec3768",
   "metadata": {
    "scrolled": true
   },
   "outputs": [],
   "source": [
    "df_actor.head(100)"
   ]
  },
  {
   "cell_type": "markdown",
   "id": "f666db0e",
   "metadata": {},
   "source": [
    "### 3.3 Uniendo Tabla Película - Personajes"
   ]
  },
  {
   "cell_type": "code",
   "execution_count": null,
   "id": "b90360f6",
   "metadata": {},
   "outputs": [],
   "source": [
    "dataframe = pd.merge( dataframe, df_actor, how='left', left_on='starring', right_on='actorName'  )"
   ]
  },
  {
   "cell_type": "code",
   "execution_count": null,
   "id": "9cae0b2a",
   "metadata": {},
   "outputs": [],
   "source": [
    "dataframe.head(50)"
   ]
  },
  {
   "cell_type": "code",
   "execution_count": null,
   "id": "57a94564",
   "metadata": {},
   "outputs": [],
   "source": [
    "dataframe.fillna(-1, inplace=True)"
   ]
  },
  {
   "cell_type": "code",
   "execution_count": null,
   "id": "f1465790",
   "metadata": {},
   "outputs": [],
   "source": [
    "dataframe.head(200)"
   ]
  },
  {
   "cell_type": "markdown",
   "id": "a6e10195",
   "metadata": {},
   "source": [
    "## Relación Actor - Pelicula - Edad - Estudio - LugarNacimiento"
   ]
  },
  {
   "cell_type": "code",
   "execution_count": null,
   "id": "c1d7dc3b",
   "metadata": {},
   "outputs": [],
   "source": [
    "def grafo(df):\n",
    "    G = nx.Graph()\n",
    "\n",
    "    for a in df.itertuples():\n",
    "        if a.starring != \"\":\n",
    "            G.add_node(a.starring, size=\"20\",labelHighlightBold=True)\n",
    "            G.add_edge(a.starring, a.name)\n",
    "            G.add_edge(a.name, a.country)\n",
    "            G.add_edge(a.name, a.studio)\n",
    "            G.add_edge(a.name, a.producer)\n",
    "            G.add_edge(a.name, a.music)\n",
    "            G.add_edge(a.starring, a.birthDate)\n",
    "            G.add_edge(a.starring, a.birthPlace)\n",
    "\n",
    "    \n",
    "    net = Network(notebook=True,directed=True)\n",
    "\n",
    "    net.from_nx(G)\n",
    "    #net.show_buttons()\n",
    "    net.repulsion(node_distance=100, spring_length=100,central_gravity=0.5)\n",
    "    \"\"\"\n",
    "    pos = nx.spring_layout(G)\n",
    "    nx.draw(G, pos, node_size=50, node_color='blue', font_size=5, font_weight='bold', with_labels=True)\n",
    "    plt.savefig('plotgraph.png', dpi=1000, bbox_inches='tight')\n",
    "    plt.show()\n",
    "    \"\"\"\n",
    "    return net.show(\"example.html\")"
   ]
  },
  {
   "cell_type": "code",
   "execution_count": null,
   "id": "183defbb",
   "metadata": {
    "scrolled": true
   },
   "outputs": [],
   "source": [
    "dataframe.head(100)\n",
    "grafo(dataframe)"
   ]
  }
 ],
 "metadata": {
  "kernelspec": {
   "display_name": "Python 3 (ipykernel)",
   "language": "python",
   "name": "python3"
  },
  "language_info": {
   "codemirror_mode": {
    "name": "ipython",
    "version": 3
   },
   "file_extension": ".py",
   "mimetype": "text/x-python",
   "name": "python",
   "nbconvert_exporter": "python",
   "pygments_lexer": "ipython3",
   "version": "3.10.7"
  }
 },
 "nbformat": 4,
 "nbformat_minor": 5
}
